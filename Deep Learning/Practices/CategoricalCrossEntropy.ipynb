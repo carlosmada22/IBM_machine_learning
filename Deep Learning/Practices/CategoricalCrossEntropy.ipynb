{
 "cells": [
  {
   "cell_type": "markdown",
   "id": "519065a6-9c43-440a-a33b-eb9ab0990ffe",
   "metadata": {},
   "source": [
    "<center>\n",
    "    <img src=\"https://cf-courses-data.s3.us.cloud-object-storage.appdomain.cloud/assets/logos/SN_web_lightmode.png\" width=\"300\" alt=\"cognitiveclass.ai logo\">\n",
    "</center>\n"
   ]
  },
  {
   "cell_type": "markdown",
   "id": "2e4d5f7a-70d4-48b2-a279-1a03fcdd28b3",
   "metadata": {},
   "source": [
    "# **Categorical Cross-Entropy Loss**\n"
   ]
  },
  {
   "cell_type": "markdown",
   "id": "7ffadb3b-4776-4fd2-91f9-207b2a5a650f",
   "metadata": {},
   "source": [
    "Estimated time needed: **45** minutes\n"
   ]
  },
  {
   "cell_type": "markdown",
   "id": "973ee1e5-1e96-47fb-9614-9ba82da744c0",
   "metadata": {},
   "source": [
    "In this lab, we are going to use the MNIST hand-written digits dataset as a motivating example to understand categorical cross-entropy loss.\n"
   ]
  },
  {
   "cell_type": "markdown",
   "id": "e3d3b682-5bcd-4755-8414-e336d05dfe64",
   "metadata": {},
   "source": [
    "<h1> House Number Detection </h1></s>\n",
    "\n",
    "You have been tasked with building a model that can recognize house numbers from arbitrary street-view images. You are given a set of images of single-digit house numbers engraved into slates or wall surfaces. The images vary in size and color. In this lab, we are going to use the MNIST hand-written digits dataset as a motivating example to understand the __softmax function__, __one-hot encoding__, and __categorical cross-entropy loss__. The MNIST hand-written dataset has 10 classes, each representing a digit from 0-9. We will attempt to build a multi-class classification model that will identify which digit is present in the image. \n"
   ]
  },
  {
   "cell_type": "markdown",
   "id": "a53a99fc-57d2-487c-afee-253ddcd9851a",
   "metadata": {},
   "source": [
    "<img src=\"https://cf-courses-data.s3.us.cloud-object-storage.appdomain.cloud/IBMDeveloperSkillsNetwork-ML311-Coursera/labs/Module3/L1/house_number.jpg\" style=\"width: 30%\">\n",
    "\n",
    "<!-- Original Source: https://slate.com/human-interest/2020/06/a-quest-to-catalogue-every-single-house-number-in-one-suburban-zip-code.html --> \n"
   ]
  },
  {
   "cell_type": "markdown",
   "id": "a4a8e29e-7df1-4deb-81fa-2fe4cbe6f1e6",
   "metadata": {},
   "source": [
    "## **Table of Contents**\n",
    "\n",
    "<ol>\n",
    "    <li><a href=\"https://#Objectives\">Objectives</a></li>\n",
    "    <li><a href=\"https://#Datasets\">Datasets</a></li>\n",
    "    <li>\n",
    "        <a href=\"https://#Setup\">Setup</a>\n",
    "        <ol>\n",
    "            <li><a href=\"https://#Installing-Required-Libraries\">Installing Required Libraries</a></li>\n",
    "            <li><a href=\"https://#Importing-Required-Libraries\">Importing Required Libraries</a></li>\n",
    "            <li><a href=\"https://#Defining-Helper-Functions\">Defining Helper Functions</a></li>\n",
    "        </ol>\n",
    "    </li>\n",
    "    <li><a href=\"https://https://#Categorical Cross-Entropy\">Categorical Cross-Entropy</a>\n",
    "        <ol>\n",
    "            <li><a href=\"https://#Softmax Activation Function\">Softmax Activation Function</a></li>\n",
    "            <li><a href=\"https://#One-Hot Encoding\">One-Hot Encoding</a></li>\n",
    "            <li><a href=\"#Categorical Cross-Entropy\">Categorical Cross-Entropy</a></li>\n",
    "        </ol>\n",
    "    </li>\n",
    "    <li><a href=\"https://#Binary vs. Multi-Class Classification\">Binary vs. Multi-Class Classification</a>\n",
    "        <ol>\n",
    "            <li><a href=\"https://#Binary Classification\">Binary Classification</a></li>\n",
    "            <li><a href=\"https://#Multi-Class Classification\">Multi-Class Classification</a></li>\n",
    "        </ol>\n",
    "    </li>\n",
    "    <li>\n",
    "        <a href=\"https://#Example: MNIST Hand-Written Digits\">Example: MNIST Hand-Written Digits</a> </li>\n",
    "    <li>\n",
    "        <a href=\"https://#Example: Single-Digit House Number Recognition\"> Example: Single-Digit House Number Recognition</a> </li>\n",
    "    <li><a href=\"https://#Exercises\">Exercises</a>\n",
    "        <ol>\n",
    "            <li><a href=\"https://#Exercise 1 - Loading and plotting the images\">Exercise 1 - Loading and plotting the images</a></li>\n",
    "            <li><a href=\"https://#Exercise 2 - Preparing the data\">Exercise 2 - Preparing the data</a></li>\n",
    "            <li><a href=\"https://#Exercise 3 - One-hot encoding\">Exercise 3 - One-hot encoding</a></li>\n",
    "            <li><a href=\"https://#Exercise 4 - Build model architecture\">Exercise 4 - Build model architecture</a></li>\n",
    "            <li><a href=\"https://#(Optional) Exercise 5 - Sparse Categorical Cross-Entropy\">Sparse Categorical Cross-Entropy</a></li>\n",
    "        </ol>\n",
    "    </li>\n",
    "</ol>\n"
   ]
  },
  {
   "cell_type": "markdown",
   "id": "3326bc0d-de47-48b5-9ff8-4c780b5ebe5c",
   "metadata": {},
   "source": [
    "## Objectives\n",
    "\n",
    "After completing this lab you will be able to:\n",
    "\n",
    "*   **Understand** what categorical cross-entropy is, and how it works with the Softmax activation function.\n",
    "*   **Build** simple CNN models for binary and multi-class classification.\n"
   ]
  },
  {
   "cell_type": "markdown",
   "id": "414521ea-809d-49a1-9a61-f7c2de14e2c6",
   "metadata": {},
   "source": [
    "## Setup\n"
   ]
  },
  {
   "cell_type": "markdown",
   "id": "27957e8e-b244-40fc-ad36-bce070fe0dd4",
   "metadata": {},
   "source": [
    "For this lab, we will be using the following libraries:\n",
    "\n",
    "*   [`pandas`](https://pandas.pydata.org/?utm_medium=Exinfluencer&utm_source=Exinfluencer&utm_content=000026UJ&utm_term=10006555&utm_id=NA-SkillsNetwork-Channel-SkillsNetworkCoursesIBMML0187ENSkillsNetwork31430127-2021-01-01) for managing the data.\n",
    "*   [`numpy`](https://numpy.org/?utm_medium=Exinfluencer&utm_source=Exinfluencer&utm_content=000026UJ&utm_term=10006555&utm_id=NA-SkillsNetwork-Channel-SkillsNetworkCoursesIBMML0187ENSkillsNetwork31430127-2021-01-01) for mathematical operations.\n",
    "*   [`sklearn`](https://scikit-learn.org/stable/?utm_medium=Exinfluencer&utm_source=Exinfluencer&utm_content=000026UJ&utm_term=10006555&utm_id=NA-SkillsNetwork-Channel-SkillsNetworkCoursesIBMML0187ENSkillsNetwork31430127-2021-01-01) for machine learning and machine-learning-pipeline related functions.\n",
    "*   [`seaborn`](https://seaborn.pydata.org/?utm_medium=Exinfluencer&utm_source=Exinfluencer&utm_content=000026UJ&utm_term=10006555&utm_id=NA-SkillsNetwork-Channel-SkillsNetworkCoursesIBMML0187ENSkillsNetwork31430127-2021-01-01) for visualizing the data.\n",
    "*   [`matplotlib`](https://matplotlib.org/?utm_medium=Exinfluencer&utm_source=Exinfluencer&utm_content=000026UJ&utm_term=10006555&utm_id=NA-SkillsNetwork-Channel-SkillsNetworkCoursesIBMML0187ENSkillsNetwork31430127-2021-01-01) for additional plotting tools.\n",
    "*   [`keras`](https://keras.io/?utm_medium=Exinfluencer&utm_source=Exinfluencer&utm_content=000026UJ&utm_term=10006555&utm_id=NA-SkillsNetwork-Channel-SkillsNetworkCoursesIBMML0187ENSkillsNetwork31430127-2021-01-01) for loading datasets.\n"
   ]
  },
  {
   "cell_type": "markdown",
   "id": "3ed8ac05-4cf6-4f13-abe0-6a0c90c35cff",
   "metadata": {},
   "source": [
    "### Installing Required Libraries\n",
    "\n",
    "The following required libraries are pre-installed in the Skills Network Labs environment. However, if you run these notebook commands in a different Jupyter environment (like Watson Studio or Ananconda), you will need to install these libraries by removing the `#` sign before `!pip install mlxtend` in the following code cell.\n"
   ]
  },
  {
   "cell_type": "markdown",
   "id": "f13678ca-d571-4967-8bfb-0e72f3675ccf",
   "metadata": {},
   "source": [
    "The following required libraries are **not** pre-installed in the Skills Network Labs environment. **You will need to run the following cell** to install them. **Please RESTART KERNEL after installation,**.\n"
   ]
  },
  {
   "cell_type": "code",
   "execution_count": 2,
   "id": "dab2fce5-8b59-4d9a-9769-8bed33309946",
   "metadata": {},
   "outputs": [],
   "source": [
    "%%capture\n",
    "\n",
    "!pip install mlxtend\n",
    "!pip install --upgrade tensorflow"
   ]
  },
  {
   "cell_type": "markdown",
   "id": "ba61c91d-ad3a-40d6-95fc-037c218aeb76",
   "metadata": {},
   "source": [
    "### Importing Required Libraries\n"
   ]
  },
  {
   "cell_type": "code",
   "execution_count": 3,
   "id": "18914ec9-f887-43a2-9e1e-d4b758c6d57f",
   "metadata": {},
   "outputs": [
    {
     "name": "stdout",
     "output_type": "stream",
     "text": [
      "2.13.0\n"
     ]
    }
   ],
   "source": [
    "import cv2\n",
    "from urllib.request import urlopen\n",
    "from PIL import Image\n",
    "import IPython\n",
    "import numpy as np\n",
    "from matplotlib import pyplot as plt\n",
    "import pandas as pd, numpy as np\n",
    "from keras.datasets import mnist, fashion_mnist\n",
    "import random\n",
    "from sklearn.preprocessing import OneHotEncoder\n",
    "from tensorflow.keras.losses import CategoricalCrossentropy,SparseCategoricalCrossentropy,BinaryCrossentropy\n",
    "from sklearn.datasets import make_blobs\n",
    "from mlxtend.plotting import plot_decision_regions\n",
    "import tensorflow as tf\n",
    "print(tf.__version__)\n",
    "from sklearn import preprocessing\n",
    "from tensorflow.keras.utils import to_categorical\n",
    "from tensorflow.keras.models import Sequential\n",
    "from tensorflow.keras.layers import Dense"
   ]
  },
  {
   "cell_type": "markdown",
   "id": "7db0134d-ca81-4af1-a2a7-2fd47167a1ea",
   "metadata": {},
   "source": [
    "### Defining Helper Functions\n",
    "\n",
    "*Use this section to define any helper functions to help the notebook's code readability:*\n"
   ]
  },
  {
   "cell_type": "code",
   "execution_count": 4,
   "id": "7ec08d59-8184-415f-8896-19a08b7af1e5",
   "metadata": {},
   "outputs": [],
   "source": [
    "def generate_multiclass_blobs(num_samples_total, training_split, cluster_centers, num_classes, loss_function_used):\n",
    "    X, targets = make_blobs(n_samples = num_samples_total, centers = cluster_centers, n_features = num_classes, center_box=(0, 1), cluster_std = 1.5)\n",
    "    categorical_targets = to_categorical(targets)\n",
    "    X_training = X[training_split:, :]\n",
    "    X_testing = X[:training_split, :]\n",
    "    Targets_training = categorical_targets[training_split:]\n",
    "    Targets_testing = categorical_targets[:training_split].astype(np.int32)\n",
    "    return X_training, Targets_training, X_testing, Targets_testing\n",
    "\n",
    "\n",
    "def generate_binary_blobs(num_samples_total, training_split, loss_function_used):\n",
    "    X, targets = make_blobs(n_samples = num_samples_total, centers = [(0,0), (15,15)], n_features = 2, center_box=(0, 1), cluster_std = 2.5)\n",
    "    targets[np.where(targets == 0)] = -1\n",
    "    X_training = X[training_split:, :]\n",
    "    X_testing = X[:training_split, :]\n",
    "    Targets_training = targets[training_split:]\n",
    "    Targets_testing = targets[:training_split]\n",
    "    return X_training, Targets_training, X_testing, Targets_testing"
   ]
  },
  {
   "cell_type": "markdown",
   "id": "39c6e318-5efe-4ef0-aeea-e3ee9470f8ad",
   "metadata": {},
   "source": [
    "## Categorical Cross-Entropy\n"
   ]
  },
  {
   "cell_type": "markdown",
   "id": "b7a554c2-b34a-4dfe-a088-9dcb3aae409b",
   "metadata": {},
   "source": [
    "When working on a machine learning problem, we use loss functions to optimize our models during training where a common objective is to minimize the loss function.\n",
    "\n",
    "Cross-entropy is a widely used loss or cost function, that is used to optimize classification models. Before delving into cross-entropy, let us first cover the prerequisites by learning about a common activation function called Softmax.\n"
   ]
  },
  {
   "cell_type": "markdown",
   "id": "3e8b5c8c-3251-4db1-807e-f891ed9b42d7",
   "metadata": {},
   "source": [
    "### Softmax Activation Function\n"
   ]
  },
  {
   "cell_type": "markdown",
   "id": "06e1bd2c-b83e-4a1c-bbec-d04190790acb",
   "metadata": {},
   "source": [
    "Activation functions are transformations applied to the output from CNNs before loss computations.\n"
   ]
  },
  {
   "cell_type": "markdown",
   "id": "b2f3f81d-83fc-45eb-9cf7-c017e675dfe8",
   "metadata": {},
   "source": [
    "The Softmax activation function is typically placed as the last layer in a neural network and used to normalize the output of a network to a probability distribution over predicted output classes.\n",
    "\n",
    "It does so by scaling numbers/logits into probabilities for each possible outcome or class present in our dataset. The resulting probabilities in the vector sum up to one.\n",
    "\n",
    "Mathematically, Softmax is defined as follows:\n",
    "\n",
    "<img src=\"https://cf-courses-data.s3.us.cloud-object-storage.appdomain.cloud/IBMDeveloperSkillsNetwork-ML311-Coursera/labs/Module3/L1/softmax.png\" style=\"width: 30%\">\n"
   ]
  },
  {
   "cell_type": "markdown",
   "id": "0dbde6e4-87a1-48e7-af36-eb12bb8fe3d5",
   "metadata": {},
   "source": [
    "Here, $\\overrightarrow{{z}}$ is an input vector to the Softmax function $\\sigma$.\n",
    "\n",
    "$\\overrightarrow{{z}}\\_i$ represents the $i$th element of the input vector, and can take on values from -inf to inf.\n",
    "\n",
    "$\\overrightarrow{{z}}_i$ represents the $i$th element of the input vector, and can take on values from -inf to inf. \n",
    "\n",
    "$e^{z_i}$ is a standard exponential function applied on the $i$th element of $z$, and the denominator is a normalizing term (L1-norm) to ensure the result is a valid probability distribution, that is, sums up to 1, and values are within the 0 - 1 range.\n"
   ]
  },
  {
   "cell_type": "markdown",
   "id": "2a24f1a8-ed26-4d15-b041-761531e310e2",
   "metadata": {},
   "source": [
    "Exponential is a steeply increasing function; that is, it increases the difference between outputs. In the final output, the largest element (which dominates the norm) is normalized to a value close to 1, while all the other elements end up being close to 0. Not only does the resulting vector show the winning class, but it also retains the original order of values.\n",
    "\n",
    "\n",
    "Another important point to note is that Softmax is not affected by negative values, as the exponent of any value is always a positive value.\n"
   ]
  },
  {
   "cell_type": "markdown",
   "id": "66bb2671-9c39-4a84-8ca6-4470aafd95cb",
   "metadata": {},
   "source": [
    "Let us walk through an example to understand Softmax.\n"
   ]
  },
  {
   "cell_type": "markdown",
   "id": "d8e775c1-2fd5-4a3e-882c-20116b021d5b",
   "metadata": {},
   "source": [
    "Imagine you are building a CNN model to classify an image as a dog, cat, fish, or horse. The fully-connected layer of your CNN gives a vector of logits. You pass the vector through the Softmax function above to obtain probabilities.\n"
   ]
  },
  {
   "cell_type": "markdown",
   "id": "224a6fe4-f44e-4a12-8d63-398f05193250",
   "metadata": {},
   "source": [
    "![](https://cf-courses-data.s3.us.cloud-object-storage.appdomain.cloud/IBMDeveloperSkillsNetwork-ML311-Coursera/labs/Module3/L1/cce_diag.png)\n"
   ]
  },
  {
   "cell_type": "markdown",
   "id": "0df9e4b2-60b8-4183-8e55-ebf4ddc52105",
   "metadata": {},
   "source": [
    "### One-Hot Encoding\n"
   ]
  },
  {
   "cell_type": "markdown",
   "id": "a40827b1-68bb-475b-acd7-83753b5cbaa0",
   "metadata": {},
   "source": [
    "The ground truth is typically presented in form of categorical data; that is, a given image is categorized into one of these classes: dog, cat, fish, or horse.\n"
   ]
  },
  {
   "cell_type": "markdown",
   "id": "1ce25714-fbdc-47ff-8a4b-6afec73fd958",
   "metadata": {},
   "source": [
    "For categorical variables where no ordinal relationships exist, we can perform one-hot encoding to represent each class. This is best explained through an example.\n",
    "\n",
    "In our case, we will have four classes, and these are the corresponding one-hot encoded labels:\n"
   ]
  },
  {
   "cell_type": "markdown",
   "id": "4981d3a1-d505-4397-aa56-e0094c6c2599",
   "metadata": {},
   "source": [
    "<img src=\"https://cf-courses-data.s3.us.cloud-object-storage.appdomain.cloud/IBMDeveloperSkillsNetwork-ML311-Coursera/labs/Module3/L1/ohe_labels.png\" style=\"width: 50%\">\n"
   ]
  },
  {
   "cell_type": "markdown",
   "id": "12571702-5937-4401-bd3a-54327157859d",
   "metadata": {},
   "source": [
    "So in one-hot encoding, we represent labels with a binary variable where for every given class, we have the value 1 for the position corresponding to that particular class and 0 elsewhere (that is, 100% probability of belonging to that class).\n"
   ]
  },
  {
   "cell_type": "markdown",
   "id": "9b122e23-8b43-4677-b706-b1f3dec578c9",
   "metadata": {},
   "source": [
    "### Back to Categorical Cross-Entropy\n"
   ]
  },
  {
   "cell_type": "markdown",
   "id": "36d2e829-5754-4001-a213-597640a4d5d6",
   "metadata": {},
   "source": [
    "Now that we have converted the logits to output probabilities, we need to measure how good they are; that is, measure the distance from the truth values.\n"
   ]
  },
  {
   "cell_type": "markdown",
   "id": "d642fb7f-2816-4aa8-ba67-8d6766efc6cd",
   "metadata": {},
   "source": [
    "For instance, in the example above, the desired output is [1,0,0,0], but the model outputs [0.775,0.116,0.039,0.070].\n"
   ]
  },
  {
   "cell_type": "markdown",
   "id": "fd97c4e2-a93f-4142-929e-b00b6c10619f",
   "metadata": {},
   "source": [
    "The categorical cross-entropy is mathematically defined as follows:\n"
   ]
  },
  {
   "cell_type": "markdown",
   "id": "43f7924c-4d57-4935-8550-1e8815efce92",
   "metadata": {},
   "source": [
    "<img src=\"https://cf-courses-data.s3.us.cloud-object-storage.appdomain.cloud/IBMDeveloperSkillsNetwork-ML311-Coursera/labs/Module3/L1/cce.png\" style=\"width: 30%\">\n"
   ]
  },
  {
   "cell_type": "markdown",
   "id": "3f0266c8-9006-4730-85ca-4fba75d84ff7",
   "metadata": {},
   "source": [
    "We can use the formula above to compute the cross-entropy loss. When training our model, we iteratively update the weights to minimize the cross-entropy loss. \n",
    "\n",
    "The Softmax is continuously differentiable, and this property makes it easy to compute the derivative of the loss function and, accordingly, adjust the model weights in each iteration to minimize the loss function.\n",
    "\n",
    "In the next iteration, if our $$L\\_{CE}$$ is lower than the current one, we say that the model is *learning*.\n"
   ]
  },
  {
   "cell_type": "markdown",
   "id": "d87c6a6b-dd88-4929-a101-505e4c2127b5",
   "metadata": {},
   "source": [
    "## Binary vs. Multi-Class Classification\n"
   ]
  },
  {
   "cell_type": "markdown",
   "id": "eba7e5dd-cf7f-45de-b904-5d24800a3e7a",
   "metadata": {},
   "source": [
    "Now, let us do a quick review of binary and multi-class classification. Binary classification tasks require that all examples be assigned to one of two classes, whereas in multi-class classification, examples can belong to more than two classes.\n",
    "\n",
    "For binary classification problems, we have a final layer with a single node and a sigmoid activation function. It can map the output vector from a CNN to values between 0 and 1 before loss computations. The sigmoid function is denoted using the following formula:\n",
    "\n",
    "$$\\sigma(x) = 1/(1+e^{-x})$$\n"
   ]
  },
  {
   "cell_type": "markdown",
   "id": "a2fb21ab-f014-46d5-84c1-e6eb8ac004c8",
   "metadata": {},
   "source": [
    "Let's see binary classification and multi-class classification in action.\n"
   ]
  },
  {
   "cell_type": "markdown",
   "id": "e671d8cd-5494-4ec6-be3e-14431bdc606f",
   "metadata": {},
   "source": [
    "### Binary Classification\n"
   ]
  },
  {
   "cell_type": "markdown",
   "id": "08c58609-c995-4d45-ad73-26922e3a77e9",
   "metadata": {},
   "source": [
    "Using a helper function defined at the beginning of the notebook, we will use the `make_blobs()` function from `sklearn` to generate isotropic Gaussian blobs for classification.\n",
    "\n",
    "We will create a data set with 1000 samples, and use 750 of those samples for training a simple CNN model.\n"
   ]
  },
  {
   "cell_type": "markdown",
   "id": "0cda6df2-a1bb-4d20-b07f-600cdcf71464",
   "metadata": {},
   "source": [
    "Let us define a few more configuration options.\n"
   ]
  },
  {
   "cell_type": "markdown",
   "id": "6db39e8c-6ce4-4f16-8f5a-026f4be60197",
   "metadata": {},
   "source": [
    "*   **num_samples**: refers to the total number of samples in our dataset\n",
    "*   **test_split**: refers to the number of samples to be used for testing\n",
    "*   **cluster_centers**: we define 2 centers for our isotropic Gaussian blobs\n",
    "*   **num_classes**: we have 2 classes\n",
    "*   **loss_function_used**: since this is a binary classification problem, we use binary cross-entropy loss\n"
   ]
  },
  {
   "cell_type": "code",
   "execution_count": 5,
   "id": "9abd258b-6da0-4306-ab51-1961a1cfbb37",
   "metadata": {},
   "outputs": [],
   "source": [
    "num_samples = 1000\n",
    "test_split = 250\n",
    "cluster_centers = [(15,0), (30,15)]\n",
    "num_classes = len(cluster_centers)\n",
    "loss_function_used = BinaryCrossentropy(from_logits=True)"
   ]
  },
  {
   "cell_type": "code",
   "execution_count": 6,
   "id": "8c6c8023-bdad-46ae-bfa1-e9127f238059",
   "metadata": {},
   "outputs": [],
   "source": [
    "X_training, Targets_training, X_testing, Targets_testing=generate_binary_blobs(num_samples, test_split, loss_function_used)\n"
   ]
  },
  {
   "cell_type": "markdown",
   "id": "259f172b-025f-47e4-a902-f6ec756ab259",
   "metadata": {},
   "source": [
    "We can take look at one of the samples.\n"
   ]
  },
  {
   "cell_type": "code",
   "execution_count": 7,
   "id": "5e1271dd-bfd8-463a-8e2d-b03aad306571",
   "metadata": {},
   "outputs": [
    {
     "data": {
      "image/png": "[encoded data removed]",
      "text/plain": [
       "<Figure size 400x400 with 1 Axes>"
      ]
     },
     "metadata": {},
     "output_type": "display_data"
    }
   ],
   "source": [
    "plt.figure(figsize=(4, 4))\n",
    "plt.scatter(X_training[:,0], X_training[:,1])\n",
    "plt.title('Linearly separable data')\n",
    "plt.xlabel('X1')\n",
    "plt.ylabel('X2')\n",
    "plt.show()"
   ]
  },
  {
   "cell_type": "markdown",
   "id": "1e419625-b6dd-42f8-b064-cb76e435bd87",
   "metadata": {},
   "source": [
    "We will build a simple CNN model with two hidden layers, that uses sigmoid as the activation function, and binary cross-entropy as the loss function. Let's define the architecture of our model:\n"
   ]
  },
  {
   "cell_type": "code",
   "execution_count": 8,
   "id": "a21fd3cf-b911-41a3-ac04-5fcad6ac9ac5",
   "metadata": {},
   "outputs": [],
   "source": [
    "feature_vector_shape = X_training.shape[1]\n",
    "input_shape = (feature_vector_shape,)\n",
    "\n",
    "model = Sequential()\n",
    "model.add(Dense(12, input_shape=input_shape, activation='relu', kernel_initializer='he_uniform'))\n",
    "model.add(Dense(8, activation='relu', kernel_initializer='he_uniform'))\n",
    "model.add(Dense(1, activation = 'sigmoid'))"
   ]
  },
  {
   "cell_type": "code",
   "execution_count": 9,
   "id": "84c560a8-9f02-48f9-a537-2bf1e24669c6",
   "metadata": {},
   "outputs": [
    {
     "name": "stderr",
     "output_type": "stream",
     "text": [
      "WARNING:absl:`lr` is deprecated in Keras optimizer, please use `learning_rate` or use the legacy optimizer, e.g.,tf.keras.optimizers.legacy.Adam.\n"
     ]
    },
    {
     "name": "stdout",
     "output_type": "stream",
     "text": [
      "Epoch 1/30\n"
     ]
    },
    {
     "name": "stderr",
     "output_type": "stream",
     "text": [
      "c:\\Users\\cmadaria\\Miniconda3\\envs\\equitrain\\lib\\site-packages\\keras\\src\\backend.py:5805: UserWarning: \"`binary_crossentropy` received `from_logits=True`, but the `output` argument was produced by a Sigmoid activation and thus does not represent logits. Was this intended?\n",
      "  output, from_logits = _get_logits(\n"
     ]
    },
    {
     "name": "stdout",
     "output_type": "stream",
     "text": [
      "120/120 [==============================] - 2s 6ms/step - loss: -0.5416 - accuracy: 0.5183 - val_loss: -2.4086 - val_accuracy: 0.4333\n",
      "Epoch 2/30\n",
      "120/120 [==============================] - 0s 3ms/step - loss: -2.9146 - accuracy: 0.4983 - val_loss: -5.4641 - val_accuracy: 0.4400\n",
      "Epoch 3/30\n",
      "120/120 [==============================] - 0s 4ms/step - loss: -5.6080 - accuracy: 0.4967 - val_loss: -9.7627 - val_accuracy: 0.4267\n",
      "Epoch 4/30\n",
      "120/120 [==============================] - 0s 4ms/step - loss: -9.3710 - accuracy: 0.4900 - val_loss: -15.3515 - val_accuracy: 0.4400\n",
      "Epoch 5/30\n",
      "120/120 [==============================] - 1s 4ms/step - loss: -14.5280 - accuracy: 0.4883 - val_loss: -23.1780 - val_accuracy: 0.4400\n",
      "Epoch 6/30\n",
      "120/120 [==============================] - 0s 4ms/step - loss: -21.6053 - accuracy: 0.4900 - val_loss: -34.0675 - val_accuracy: 0.4400\n",
      "Epoch 7/30\n",
      "120/120 [==============================] - 0s 4ms/step - loss: -31.2071 - accuracy: 0.4900 - val_loss: -48.8163 - val_accuracy: 0.4333\n",
      "Epoch 8/30\n",
      "120/120 [==============================] - 0s 4ms/step - loss: -44.3068 - accuracy: 0.4900 - val_loss: -68.4184 - val_accuracy: 0.4333\n",
      "Epoch 9/30\n",
      "120/120 [==============================] - 1s 5ms/step - loss: -62.1328 - accuracy: 0.4950 - val_loss: -94.8566 - val_accuracy: 0.4200\n",
      "Epoch 10/30\n",
      "120/120 [==============================] - 0s 3ms/step - loss: -85.6215 - accuracy: 0.4900 - val_loss: -129.1716 - val_accuracy: 0.4333\n",
      "Epoch 11/30\n",
      "120/120 [==============================] - 0s 4ms/step - loss: -115.3289 - accuracy: 0.5033 - val_loss: -170.3562 - val_accuracy: 0.3933\n",
      "Epoch 12/30\n",
      "120/120 [==============================] - 0s 3ms/step - loss: -151.7953 - accuracy: 0.5000 - val_loss: -223.3310 - val_accuracy: 0.4400\n",
      "Epoch 13/30\n",
      "120/120 [==============================] - 0s 3ms/step - loss: -195.9816 - accuracy: 0.4967 - val_loss: -284.0131 - val_accuracy: 0.4467\n",
      "Epoch 14/30\n",
      "120/120 [==============================] - 0s 4ms/step - loss: -247.3983 - accuracy: 0.4967 - val_loss: -354.7213 - val_accuracy: 0.4333\n",
      "Epoch 15/30\n",
      "120/120 [==============================] - 0s 3ms/step - loss: -306.6097 - accuracy: 0.4867 - val_loss: -438.6216 - val_accuracy: 0.4333\n",
      "Epoch 16/30\n",
      "120/120 [==============================] - 0s 4ms/step - loss: -374.7720 - accuracy: 0.4950 - val_loss: -531.0656 - val_accuracy: 0.4267\n",
      "Epoch 17/30\n",
      "120/120 [==============================] - 0s 3ms/step - loss: -451.8711 - accuracy: 0.4900 - val_loss: -633.2195 - val_accuracy: 0.4400\n",
      "Epoch 18/30\n",
      "120/120 [==============================] - 0s 3ms/step - loss: -537.5705 - accuracy: 0.5000 - val_loss: -750.4590 - val_accuracy: 0.3733\n",
      "Epoch 19/30\n",
      "120/120 [==============================] - 0s 3ms/step - loss: -633.0469 - accuracy: 0.4850 - val_loss: -880.7090 - val_accuracy: 0.4400\n",
      "Epoch 20/30\n",
      "120/120 [==============================] - 0s 3ms/step - loss: -738.4316 - accuracy: 0.4917 - val_loss: -1019.4925 - val_accuracy: 0.4467\n",
      "Epoch 21/30\n",
      "120/120 [==============================] - 0s 3ms/step - loss: -853.6234 - accuracy: 0.4917 - val_loss: -1170.2355 - val_accuracy: 0.4333\n",
      "Epoch 22/30\n",
      "120/120 [==============================] - 1s 5ms/step - loss: -979.0631 - accuracy: 0.4867 - val_loss: -1334.2937 - val_accuracy: 0.4267\n",
      "Epoch 23/30\n",
      "120/120 [==============================] - 0s 4ms/step - loss: -1113.5972 - accuracy: 0.4917 - val_loss: -1514.0266 - val_accuracy: 0.4467\n",
      "Epoch 24/30\n",
      "120/120 [==============================] - 0s 3ms/step - loss: -1258.3977 - accuracy: 0.4850 - val_loss: -1705.6193 - val_accuracy: 0.4467\n",
      "Epoch 25/30\n",
      "120/120 [==============================] - 0s 3ms/step - loss: -1413.0640 - accuracy: 0.4917 - val_loss: -1907.1581 - val_accuracy: 0.4467\n",
      "Epoch 26/30\n",
      "120/120 [==============================] - 0s 3ms/step - loss: -1578.5558 - accuracy: 0.4883 - val_loss: -2121.2092 - val_accuracy: 0.4467\n",
      "Epoch 27/30\n",
      "120/120 [==============================] - 0s 3ms/step - loss: -1754.5175 - accuracy: 0.4900 - val_loss: -2354.6372 - val_accuracy: 0.3733\n",
      "Epoch 28/30\n",
      "120/120 [==============================] - 0s 4ms/step - loss: -1942.3523 - accuracy: 0.4850 - val_loss: -2598.0850 - val_accuracy: 0.4467\n",
      "Epoch 29/30\n",
      "120/120 [==============================] - 0s 3ms/step - loss: -2139.9497 - accuracy: 0.4917 - val_loss: -2854.4993 - val_accuracy: 0.4467\n",
      "Epoch 30/30\n",
      "120/120 [==============================] - 0s 4ms/step - loss: -2349.3486 - accuracy: 0.4883 - val_loss: -3123.0400 - val_accuracy: 0.4467\n"
     ]
    }
   ],
   "source": [
    "model.compile(loss=loss_function_used, optimizer=tf.keras.optimizers.Adam(lr=0.01), metrics=['accuracy'])\n",
    "history = model.fit(X_training, Targets_training, epochs=30, batch_size=5, verbose=1, validation_split=0.2)"
   ]
  },
  {
   "cell_type": "markdown",
   "id": "947a8e18-1993-44a2-b200-7b1385f62557",
   "metadata": {},
   "source": [
    "We will now use the trained model to make predictions on an unseen test dataset.\n"
   ]
  },
  {
   "cell_type": "code",
   "execution_count": 10,
   "id": "5bb979a7-13d3-45b5-ae66-592719b2a4c3",
   "metadata": {},
   "outputs": [
    {
     "name": "stdout",
     "output_type": "stream",
     "text": [
      "8/8 [==============================] - 0s 3ms/step - loss: -2837.8088 - accuracy: 0.4720\n",
      "Test results - Loss: -2837.808837890625 - Accuracy: 47.200000286102295%\n"
     ]
    }
   ],
   "source": [
    "test_results = model.evaluate(X_testing, Targets_testing, verbose=1)\n",
    "print(f'Test results - Loss: {test_results[0]} - Accuracy: {test_results[1]*100}%')"
   ]
  },
  {
   "cell_type": "code",
   "execution_count": 11,
   "id": "558f1c14-5c56-45f2-ab17-27f4a49d09ad",
   "metadata": {},
   "outputs": [
    {
     "name": "stdout",
     "output_type": "stream",
     "text": [
      "9600/9600 [==============================] - 19s 2ms/step\n"
     ]
    },
    {
     "data": {
      "image/png": "[encoded data removed]",
      "text/plain": [
       "<Figure size 640x480 with 1 Axes>"
      ]
     },
     "metadata": {},
     "output_type": "display_data"
    },
    {
     "data": {
      "text/plain": [
       "<Figure size 400x400 with 0 Axes>"
      ]
     },
     "metadata": {},
     "output_type": "display_data"
    }
   ],
   "source": [
    "plot_decision_regions(X_testing, Targets_testing, clf=model, legend=2)\n",
    "plt.figure(figsize=(4, 4))\n",
    "plt.show()"
   ]
  },
  {
   "cell_type": "markdown",
   "id": "4fb9f288-c625-41ce-a8a3-cdec56c6c20a",
   "metadata": {},
   "source": [
    "The model successfully classifies the two clusters into two classes.\n"
   ]
  },
  {
   "cell_type": "markdown",
   "id": "c1397eab-46d6-454f-9a1d-fbe2d2dd1a8b",
   "metadata": {},
   "source": [
    "### Multi-Class Classification\n"
   ]
  },
  {
   "cell_type": "markdown",
   "id": "5bb15802-475e-4afa-81a6-834d7842233c",
   "metadata": {},
   "source": [
    "Similar to binary classification, let's create another data set with 1000 samples, and use 750 of those samples for training a simple CNN model.\n"
   ]
  },
  {
   "cell_type": "markdown",
   "id": "0920bc38-a6c6-42fc-8ee2-434fcd173d05",
   "metadata": {},
   "source": [
    "Let us define a few more configuration options.\n"
   ]
  },
  {
   "cell_type": "markdown",
   "id": "02cfbebe-4c53-47a9-97e4-c29284afced9",
   "metadata": {},
   "source": [
    "*   **num_samples**: refers to the total number of samples in our dataset\n",
    "*   **test_split**: refers to the number of samples to be used for testing\n",
    "*   **cluster_centers**: we define 3 centers for our isotropic Gaussian blobs\n",
    "*   **num_classes**: we have 3 classes\n",
    "*   **loss_function_used**: since this is a multi-class classification problem, we use categorical cross-entropy loss\n"
   ]
  },
  {
   "cell_type": "code",
   "execution_count": 12,
   "id": "57ee3a2d-d7e8-4e46-937e-2d6db4b30511",
   "metadata": {},
   "outputs": [],
   "source": [
    "num_samples = 1000\n",
    "train_split = 250\n",
    "cluster_centers = [(-10, 5), (0, 0), (10, 5)]\n",
    "num_classes = len(cluster_centers)\n",
    "loss_function_used = CategoricalCrossentropy(from_logits=True)"
   ]
  },
  {
   "cell_type": "code",
   "execution_count": 13,
   "id": "0475c1aa-f1cc-4691-856c-bb90708bf977",
   "metadata": {},
   "outputs": [],
   "source": [
    "X_training, Targets_training, X_testing, Targets_testing= generate_multiclass_blobs(num_samples, train_split,\n",
    "              cluster_centers, num_classes,\n",
    "              loss_function_used)"
   ]
  },
  {
   "cell_type": "markdown",
   "id": "d69c37c3-124d-40d6-81ca-842f8a87bfe6",
   "metadata": {},
   "source": [
    "Let's take a look at one of the samples.\n"
   ]
  },
  {
   "cell_type": "code",
   "execution_count": 14,
   "id": "faf238c0-5fb3-4d60-ae1e-ae7aff40ab93",
   "metadata": {},
   "outputs": [
    {
     "data": {
      "image/png": "[encoded data removed]",
      "text/plain": [
       "<Figure size 640x480 with 1 Axes>"
      ]
     },
     "metadata": {},
     "output_type": "display_data"
    }
   ],
   "source": [
    "plt.scatter(X_training[:,0], X_training[:,1])\n",
    "plt.title('Linearly separable data')\n",
    "plt.xlabel('X1')\n",
    "plt.ylabel('X2')\n",
    "plt.show()"
   ]
  },
  {
   "cell_type": "markdown",
   "id": "f3556105-3050-403e-8705-058a3d0b756d",
   "metadata": {},
   "source": [
    "We will build a simple CNN model with two hidden layers, that uses softmax as the activation function, and categorical cross-entropy as the loss function. Let's define the architecture of our model:\n"
   ]
  },
  {
   "cell_type": "code",
   "execution_count": 15,
   "id": "40ab60c5-1eed-4e4b-88ed-e5da5e117237",
   "metadata": {},
   "outputs": [],
   "source": [
    "feature_vector_shape = X_training.shape[1]\n",
    "input_shape = (feature_vector_shape,)\n",
    "\n",
    "model = Sequential()\n",
    "model.add(Dense(12, input_shape=input_shape, activation='relu', kernel_initializer='he_uniform'))\n",
    "model.add(Dense(8, activation='relu', kernel_initializer='he_uniform'))\n",
    "model.add(Dense(num_classes, activation='softmax'))"
   ]
  },
  {
   "cell_type": "code",
   "execution_count": 16,
   "id": "35cd1761-4256-409a-82eb-2454a5eab7cc",
   "metadata": {},
   "outputs": [
    {
     "name": "stderr",
     "output_type": "stream",
     "text": [
      "WARNING:absl:`lr` is deprecated in Keras optimizer, please use `learning_rate` or use the legacy optimizer, e.g.,tf.keras.optimizers.legacy.Adam.\n"
     ]
    },
    {
     "name": "stdout",
     "output_type": "stream",
     "text": [
      "Epoch 1/30\n"
     ]
    },
    {
     "name": "stderr",
     "output_type": "stream",
     "text": [
      "c:\\Users\\cmadaria\\Miniconda3\\envs\\equitrain\\lib\\site-packages\\keras\\src\\backend.py:5562: UserWarning: \"`categorical_crossentropy` received `from_logits=True`, but the `output` argument was produced by a Softmax activation and thus does not represent logits. Was this intended?\n",
      "  output, from_logits = _get_logits(\n"
     ]
    },
    {
     "name": "stdout",
     "output_type": "stream",
     "text": [
      "120/120 [==============================] - 2s 5ms/step - loss: 1.3971 - accuracy: 0.4983 - val_loss: 0.5576 - val_accuracy: 0.7400\n",
      "Epoch 2/30\n",
      "120/120 [==============================] - 0s 4ms/step - loss: 0.4657 - accuracy: 0.7917 - val_loss: 0.3672 - val_accuracy: 0.9000\n",
      "Epoch 3/30\n",
      "120/120 [==============================] - 0s 3ms/step - loss: 0.2846 - accuracy: 0.9333 - val_loss: 0.2101 - val_accuracy: 0.9800\n",
      "Epoch 4/30\n",
      "120/120 [==============================] - 0s 4ms/step - loss: 0.1662 - accuracy: 0.9783 - val_loss: 0.1388 - val_accuracy: 0.9800\n",
      "Epoch 5/30\n",
      "120/120 [==============================] - 0s 4ms/step - loss: 0.1126 - accuracy: 0.9867 - val_loss: 0.1001 - val_accuracy: 0.9867\n",
      "Epoch 6/30\n",
      "120/120 [==============================] - 0s 3ms/step - loss: 0.0816 - accuracy: 0.9933 - val_loss: 0.0775 - val_accuracy: 0.9867\n",
      "Epoch 7/30\n",
      "120/120 [==============================] - 0s 3ms/step - loss: 0.0613 - accuracy: 0.9983 - val_loss: 0.0607 - val_accuracy: 0.9867\n",
      "Epoch 8/30\n",
      "120/120 [==============================] - 0s 3ms/step - loss: 0.0465 - accuracy: 0.9983 - val_loss: 0.0494 - val_accuracy: 0.9867\n",
      "Epoch 9/30\n",
      "120/120 [==============================] - 0s 3ms/step - loss: 0.0361 - accuracy: 0.9983 - val_loss: 0.0383 - val_accuracy: 1.0000\n",
      "Epoch 10/30\n",
      "120/120 [==============================] - 0s 3ms/step - loss: 0.0275 - accuracy: 1.0000 - val_loss: 0.0385 - val_accuracy: 0.9933\n",
      "Epoch 11/30\n",
      "120/120 [==============================] - 1s 4ms/step - loss: 0.0224 - accuracy: 1.0000 - val_loss: 0.0272 - val_accuracy: 1.0000\n",
      "Epoch 12/30\n",
      "120/120 [==============================] - 0s 3ms/step - loss: 0.0179 - accuracy: 1.0000 - val_loss: 0.0266 - val_accuracy: 1.0000\n",
      "Epoch 13/30\n",
      "120/120 [==============================] - 0s 3ms/step - loss: 0.0147 - accuracy: 1.0000 - val_loss: 0.0209 - val_accuracy: 1.0000\n",
      "Epoch 14/30\n",
      "120/120 [==============================] - 0s 3ms/step - loss: 0.0123 - accuracy: 1.0000 - val_loss: 0.0186 - val_accuracy: 1.0000\n",
      "Epoch 15/30\n",
      "120/120 [==============================] - 1s 5ms/step - loss: 0.0102 - accuracy: 1.0000 - val_loss: 0.0195 - val_accuracy: 1.0000\n",
      "Epoch 16/30\n",
      "120/120 [==============================] - 1s 4ms/step - loss: 0.0086 - accuracy: 1.0000 - val_loss: 0.0146 - val_accuracy: 1.0000\n",
      "Epoch 17/30\n",
      "120/120 [==============================] - 0s 3ms/step - loss: 0.0072 - accuracy: 1.0000 - val_loss: 0.0151 - val_accuracy: 1.0000\n",
      "Epoch 18/30\n",
      "120/120 [==============================] - 0s 3ms/step - loss: 0.0062 - accuracy: 1.0000 - val_loss: 0.0123 - val_accuracy: 1.0000\n",
      "Epoch 19/30\n",
      "120/120 [==============================] - 0s 3ms/step - loss: 0.0054 - accuracy: 1.0000 - val_loss: 0.0114 - val_accuracy: 1.0000\n",
      "Epoch 20/30\n",
      "120/120 [==============================] - 0s 3ms/step - loss: 0.0047 - accuracy: 1.0000 - val_loss: 0.0110 - val_accuracy: 1.0000\n",
      "Epoch 21/30\n",
      "120/120 [==============================] - 0s 4ms/step - loss: 0.0041 - accuracy: 1.0000 - val_loss: 0.0090 - val_accuracy: 1.0000\n",
      "Epoch 22/30\n",
      "120/120 [==============================] - 0s 3ms/step - loss: 0.0036 - accuracy: 1.0000 - val_loss: 0.0088 - val_accuracy: 1.0000\n",
      "Epoch 23/30\n",
      "120/120 [==============================] - 1s 4ms/step - loss: 0.0033 - accuracy: 1.0000 - val_loss: 0.0077 - val_accuracy: 1.0000\n",
      "Epoch 24/30\n",
      "120/120 [==============================] - 0s 4ms/step - loss: 0.0028 - accuracy: 1.0000 - val_loss: 0.0083 - val_accuracy: 1.0000\n",
      "Epoch 25/30\n",
      "120/120 [==============================] - 0s 3ms/step - loss: 0.0026 - accuracy: 1.0000 - val_loss: 0.0081 - val_accuracy: 1.0000\n",
      "Epoch 26/30\n",
      "120/120 [==============================] - 0s 3ms/step - loss: 0.0023 - accuracy: 1.0000 - val_loss: 0.0061 - val_accuracy: 1.0000\n",
      "Epoch 27/30\n",
      "120/120 [==============================] - 0s 4ms/step - loss: 0.0021 - accuracy: 1.0000 - val_loss: 0.0060 - val_accuracy: 1.0000\n",
      "Epoch 28/30\n",
      "120/120 [==============================] - 1s 5ms/step - loss: 0.0019 - accuracy: 1.0000 - val_loss: 0.0050 - val_accuracy: 1.0000\n",
      "Epoch 29/30\n",
      "120/120 [==============================] - 0s 3ms/step - loss: 0.0017 - accuracy: 1.0000 - val_loss: 0.0043 - val_accuracy: 1.0000\n",
      "Epoch 30/30\n",
      "120/120 [==============================] - 0s 4ms/step - loss: 0.0016 - accuracy: 1.0000 - val_loss: 0.0044 - val_accuracy: 1.0000\n"
     ]
    }
   ],
   "source": [
    "model.compile(loss=loss_function_used, optimizer=tf.keras.optimizers.Adam(lr=0.001), metrics=['accuracy'])\n",
    "history = model.fit(X_training, Targets_training, epochs=30, batch_size=5, verbose=1, validation_split=0.2)"
   ]
  },
  {
   "cell_type": "markdown",
   "id": "e772e386-d6ba-492c-b717-7b36bc245e87",
   "metadata": {},
   "source": [
    "We will now use the trained model to make predictions on an unseen test dataset.\n"
   ]
  },
  {
   "cell_type": "code",
   "execution_count": 17,
   "id": "de5ed0e8-14a4-47a1-90a7-f544ae93df2e",
   "metadata": {},
   "outputs": [
    {
     "name": "stdout",
     "output_type": "stream",
     "text": [
      "8/8 [==============================] - 0s 2ms/step - loss: 0.0040 - accuracy: 1.0000\n",
      "Test results - Loss: 0.004008198622614145 - Accuracy: 100.0%\n"
     ]
    }
   ],
   "source": [
    "test_results = model.evaluate(X_testing, Targets_testing, verbose=1)\n",
    "print(f'Test results - Loss: {test_results[0]} - Accuracy: {test_results[1]*100}%')"
   ]
  },
  {
   "cell_type": "code",
   "execution_count": 18,
   "id": "3cf992c6-9c25-4c53-adf7-ef817fa102eb",
   "metadata": {},
   "outputs": [],
   "source": [
    "class Onehot2Int(object):\n",
    "\n",
    "    def __init__(self, model):\n",
    "        self.model = model\n",
    "\n",
    "    def predict(self, X):\n",
    "        y_pred = self.model.predict(X)\n",
    "        return np.argmax(y_pred, axis=1)\n",
    "\n",
    "# fit keras_model\n",
    "keras_model_no_ohe = Onehot2Int(model)"
   ]
  },
  {
   "cell_type": "code",
   "execution_count": 19,
   "id": "0a56855f-272f-464b-8035-f81239318144",
   "metadata": {},
   "outputs": [
    {
     "name": "stdout",
     "output_type": "stream",
     "text": [
      "9600/9600 [==============================] - 22s 2ms/step\n"
     ]
    },
    {
     "data": {
      "image/png": "[encoded data removed]",
      "text/plain": [
       "<Figure size 640x480 with 1 Axes>"
      ]
     },
     "metadata": {},
     "output_type": "display_data"
    }
   ],
   "source": [
    "# Plot decision boundary\n",
    "plot_decision_regions(X_testing, np.argmax(Targets_testing, axis=1), clf=keras_model_no_ohe, legend=3)\n",
    "plt.show()"
   ]
  },
  {
   "cell_type": "markdown",
   "id": "61838803-df3a-48dc-a2fd-e9948047f1f0",
   "metadata": {},
   "source": [
    "## Example: MNIST Hand-Written Digits\n"
   ]
  },
  {
   "cell_type": "markdown",
   "id": "787011cc-ebcc-478d-b90b-e8e963c5ef87",
   "metadata": {},
   "source": [
    "Let us first load our MNIST hand-written dataset using the Keras library.\n"
   ]
  },
  {
   "cell_type": "code",
   "execution_count": 20,
   "id": "968dc308-6e95-4743-ad00-958cccb6b064",
   "metadata": {},
   "outputs": [],
   "source": [
    "(X_train, y_train), (X_test, y_test) = mnist.load_data() "
   ]
  },
  {
   "cell_type": "code",
   "execution_count": 21,
   "id": "a4cebf28-2148-4e05-bcad-7cbe46a04ce4",
   "metadata": {},
   "outputs": [
    {
     "name": "stdout",
     "output_type": "stream",
     "text": [
      "X_train shape (60000, 28, 28)\n",
      "y_train shape (60000,)\n",
      "X_test shape (10000, 28, 28)\n",
      "y_test shape (10000,)\n"
     ]
    }
   ],
   "source": [
    "print(\"X_train shape\", X_train.shape)\n",
    "print(\"y_train shape\", y_train.shape)\n",
    "print(\"X_test shape\", X_test.shape)\n",
    "print(\"y_test shape\", y_test.shape)"
   ]
  },
  {
   "cell_type": "markdown",
   "id": "6abb43a0-a5e9-4fa9-8fa3-bd2d507916bd",
   "metadata": {},
   "source": [
    "Now we can plot some sample digits from the training set.\n"
   ]
  },
  {
   "cell_type": "code",
   "execution_count": 22,
   "id": "7e885b5f-b3a7-4f65-8bc6-f9b0d4b7da8f",
   "metadata": {},
   "outputs": [
    {
     "data": {
      "image/png": "[encoded data removed]",
      "text/plain": [
       "<Figure size 600x600 with 4 Axes>"
      ]
     },
     "metadata": {},
     "output_type": "display_data"
    }
   ],
   "source": [
    "plt.rcParams['figure.figsize'] = (6,6) \n",
    "\n",
    "for i in range(4):\n",
    "    plt.subplot(2,2,i+1)\n",
    "    num = random.randint(0, len(X_train))\n",
    "    plt.imshow(X_train[num], cmap='gray', interpolation='none')\n",
    "    plt.title(\"class {}\".format(y_train[num]))\n",
    "    \n",
    "plt.tight_layout()"
   ]
  },
  {
   "cell_type": "markdown",
   "id": "959b726f-bf4e-4000-b012-cbf359b091ce",
   "metadata": {},
   "source": [
    "Each image is on a grayscale (that is, only 1 channel) and is of size 28x28. We need to flatten each image by reshaping our matrix from 28x28 to a 784-length vector.\n"
   ]
  },
  {
   "cell_type": "code",
   "execution_count": 23,
   "id": "20395c10-3921-475c-9157-115b3b021bc0",
   "metadata": {},
   "outputs": [
    {
     "name": "stdout",
     "output_type": "stream",
     "text": [
      "(60000, 784)\n",
      "(10000, 784)\n"
     ]
    }
   ],
   "source": [
    "X_train = X_train.reshape(X_train.shape[0], X_train.shape[1]* X_train.shape[2])\n",
    "X_test = X_test.reshape(X_test.shape[0], X_test.shape[1] * X_test.shape[2])\n",
    "\n",
    "print(X_train.shape)\n",
    "print(X_test.shape)"
   ]
  },
  {
   "cell_type": "markdown",
   "id": "65124980-169c-41a1-8df0-12018e9fe62f",
   "metadata": {},
   "source": [
    "Next, we need to change integers to 32-bit floating point numbers. We would also need to normalize our input to be in the range [0, 1], rather than [0-255].\n"
   ]
  },
  {
   "cell_type": "code",
   "execution_count": 24,
   "id": "ca7f7e78-9d7f-4d60-86f8-98bf4fefd22d",
   "metadata": {},
   "outputs": [],
   "source": [
    "X_train = X_train.astype('float32')\n",
    "X_test = X_test.astype('float32')\n",
    "\n",
    "X_train /= 255\n",
    "X_test /= 255"
   ]
  },
  {
   "cell_type": "markdown",
   "id": "eaada7fa-7b54-4d7b-a3dd-bb664c4eb548",
   "metadata": {},
   "source": [
    "Our target variable, `y`, is an array of the following form:\n"
   ]
  },
  {
   "cell_type": "code",
   "execution_count": 25,
   "id": "19d3e990-287f-416f-bcf9-80f5299a0e9d",
   "metadata": {},
   "outputs": [
    {
     "data": {
      "text/plain": [
       "array([5, 0, 4, ..., 5, 6, 8], dtype=uint8)"
      ]
     },
     "execution_count": 25,
     "metadata": {},
     "output_type": "execute_result"
    }
   ],
   "source": [
    "y_train"
   ]
  },
  {
   "cell_type": "markdown",
   "id": "9e158e24-7acb-4deb-be3e-05e7713b917c",
   "metadata": {},
   "source": [
    "The categorical cross-entropy function expects that we provide one-hot encoded representations of the labels and predictions. Let us one-hot encode our target, `y`, using the `OneHotEncoder()` function from sklearn.\n"
   ]
  },
  {
   "cell_type": "code",
   "execution_count": 26,
   "id": "5fa74c26-608d-49a2-ac6a-581483e8d53b",
   "metadata": {},
   "outputs": [
    {
     "name": "stdout",
     "output_type": "stream",
     "text": [
      "[array([0, 1, 2, 3, 4, 5, 6, 7, 8, 9], dtype=uint8)]\n"
     ]
    },
    {
     "name": "stderr",
     "output_type": "stream",
     "text": [
      "c:\\Users\\cmadaria\\Miniconda3\\envs\\equitrain\\lib\\site-packages\\sklearn\\preprocessing\\_encoders.py:975: FutureWarning: `sparse` was renamed to `sparse_output` in version 1.2 and will be removed in 1.4. `sparse_output` is ignored unless you leave `sparse` to its default value.\n",
      "  warnings.warn(\n"
     ]
    }
   ],
   "source": [
    "enc = OneHotEncoder(sparse=False)\n",
    "enc.fit(y_train.reshape(-1, 1))\n",
    "print(enc.categories_)"
   ]
  },
  {
   "cell_type": "code",
   "execution_count": 27,
   "id": "8492a953-e26d-49d0-aab4-09706553975f",
   "metadata": {},
   "outputs": [],
   "source": [
    "y_train_enc = enc.transform(y_train.reshape(-1,1))\n",
    "y_test_enc = enc.transform(y_test.reshape(-1,1))"
   ]
  },
  {
   "cell_type": "markdown",
   "id": "8f654ec1-1f5f-4c87-8430-05dbe5256156",
   "metadata": {},
   "source": [
    "In this multi-class classification task, we want to interpret our logistic regression model's results as a probability distribution; that is the model should output a vector that represents the probability of the given image belonging to each of the 10 classes. \n",
    "\n",
    "All elements in the vector should fall into the \\[0,1] range and sum up to 1. In order to set up our classification problem this way, we can feed the model output to a softmax function to produce probabilities.\n"
   ]
  },
  {
   "cell_type": "markdown",
   "id": "4dec8024-0603-4f63-be4e-0031c50a39fa",
   "metadata": {},
   "source": [
    "For training our multi-class logistic classifier, we need a loss function. Categorical cross-entropy is a loss function widely used with softmax. We need to minimize this loss function in order to determine an optimal set of parameters.\n"
   ]
  },
  {
   "cell_type": "markdown",
   "id": "542afa5e-170d-43fa-aaf3-66ad812270ff",
   "metadata": {},
   "source": [
    "We will build a simple CNN model with two hidden layers, that uses softmax as the activation function, and categorical cross-entropy as the loss function. Let's define the architecture of our model:\n"
   ]
  },
  {
   "cell_type": "code",
   "execution_count": 28,
   "id": "fc900aea-a95f-431b-8aea-14c61766141a",
   "metadata": {},
   "outputs": [],
   "source": [
    "feature_vector_shape = X_train.shape[1]\n",
    "input_shape = (feature_vector_shape,)\n",
    "num_classes = 10\n",
    "loss_function_used=CategoricalCrossentropy(from_logits=True)\n",
    "model = Sequential()\n",
    "model.add(Dense(12, input_shape=input_shape, activation='relu', kernel_initializer='he_uniform'))\n",
    "model.add(Dense(8, activation='relu', kernel_initializer='he_uniform'))\n",
    "model.add(Dense(num_classes, activation='softmax'))"
   ]
  },
  {
   "cell_type": "code",
   "execution_count": 29,
   "id": "23c7757f-9019-46fd-88a8-28210799877f",
   "metadata": {},
   "outputs": [
    {
     "name": "stderr",
     "output_type": "stream",
     "text": [
      "WARNING:absl:`lr` is deprecated in Keras optimizer, please use `learning_rate` or use the legacy optimizer, e.g.,tf.keras.optimizers.legacy.Adam.\n"
     ]
    },
    {
     "name": "stdout",
     "output_type": "stream",
     "text": [
      "Epoch 1/25\n"
     ]
    },
    {
     "name": "stderr",
     "output_type": "stream",
     "text": [
      "c:\\Users\\cmadaria\\Miniconda3\\envs\\equitrain\\lib\\site-packages\\keras\\src\\backend.py:5562: UserWarning: \"`categorical_crossentropy` received `from_logits=True`, but the `output` argument was produced by a Softmax activation and thus does not represent logits. Was this intended?\n",
      "  output, from_logits = _get_logits(\n"
     ]
    },
    {
     "name": "stdout",
     "output_type": "stream",
     "text": [
      "9600/9600 [==============================] - 37s 4ms/step - loss: 0.4222 - accuracy: 0.8779 - val_loss: 0.2763 - val_accuracy: 0.9247\n",
      "Epoch 2/25\n",
      "9600/9600 [==============================] - 36s 4ms/step - loss: 0.2676 - accuracy: 0.9235 - val_loss: 0.2550 - val_accuracy: 0.9281\n",
      "Epoch 3/25\n",
      "9600/9600 [==============================] - 56s 6ms/step - loss: 0.2386 - accuracy: 0.9321 - val_loss: 0.2330 - val_accuracy: 0.9342\n",
      "Epoch 4/25\n",
      "9600/9600 [==============================] - 41s 4ms/step - loss: 0.2219 - accuracy: 0.9347 - val_loss: 0.2192 - val_accuracy: 0.9375\n",
      "Epoch 5/25\n",
      "9600/9600 [==============================] - 44s 5ms/step - loss: 0.2087 - accuracy: 0.9402 - val_loss: 0.2116 - val_accuracy: 0.9427\n",
      "Epoch 6/25\n",
      "9600/9600 [==============================] - 43s 5ms/step - loss: 0.1994 - accuracy: 0.9423 - val_loss: 0.2026 - val_accuracy: 0.9417\n",
      "Epoch 7/25\n",
      "9600/9600 [==============================] - 29s 3ms/step - loss: 0.1936 - accuracy: 0.9437 - val_loss: 0.2086 - val_accuracy: 0.9400\n",
      "Epoch 8/25\n",
      "9600/9600 [==============================] - 27s 3ms/step - loss: 0.1870 - accuracy: 0.9456 - val_loss: 0.2230 - val_accuracy: 0.9371\n",
      "Epoch 9/25\n",
      "9600/9600 [==============================] - 28s 3ms/step - loss: 0.1815 - accuracy: 0.9468 - val_loss: 0.2196 - val_accuracy: 0.9354\n",
      "Epoch 10/25\n",
      "9600/9600 [==============================] - 54s 6ms/step - loss: 0.1780 - accuracy: 0.9479 - val_loss: 0.2001 - val_accuracy: 0.9427\n",
      "Epoch 11/25\n",
      "9600/9600 [==============================] - 32s 3ms/step - loss: 0.1745 - accuracy: 0.9501 - val_loss: 0.2203 - val_accuracy: 0.9396\n",
      "Epoch 12/25\n",
      "9600/9600 [==============================] - 27s 3ms/step - loss: 0.1713 - accuracy: 0.9494 - val_loss: 0.1968 - val_accuracy: 0.9468\n",
      "Epoch 13/25\n",
      "9600/9600 [==============================] - 40s 4ms/step - loss: 0.1681 - accuracy: 0.9504 - val_loss: 0.2105 - val_accuracy: 0.9414\n",
      "Epoch 14/25\n",
      "9600/9600 [==============================] - 28s 3ms/step - loss: 0.1645 - accuracy: 0.9516 - val_loss: 0.1900 - val_accuracy: 0.9491\n",
      "Epoch 15/25\n",
      "9600/9600 [==============================] - 27s 3ms/step - loss: 0.1627 - accuracy: 0.9523 - val_loss: 0.1961 - val_accuracy: 0.9465\n",
      "Epoch 16/25\n",
      "9600/9600 [==============================] - 27s 3ms/step - loss: 0.1597 - accuracy: 0.9533 - val_loss: 0.2031 - val_accuracy: 0.9426\n",
      "Epoch 17/25\n",
      "9600/9600 [==============================] - 27s 3ms/step - loss: 0.1570 - accuracy: 0.9540 - val_loss: 0.2054 - val_accuracy: 0.9457\n",
      "Epoch 18/25\n",
      "9600/9600 [==============================] - 33s 3ms/step - loss: 0.1565 - accuracy: 0.9544 - val_loss: 0.1959 - val_accuracy: 0.9473\n",
      "Epoch 19/25\n",
      "9600/9600 [==============================] - 24s 3ms/step - loss: 0.1525 - accuracy: 0.9553 - val_loss: 0.1961 - val_accuracy: 0.9448\n",
      "Epoch 20/25\n",
      "9600/9600 [==============================] - 22s 2ms/step - loss: 0.1522 - accuracy: 0.9551 - val_loss: 0.2022 - val_accuracy: 0.9446\n",
      "Epoch 21/25\n",
      "9600/9600 [==============================] - 22s 2ms/step - loss: 0.1505 - accuracy: 0.9562 - val_loss: 0.2104 - val_accuracy: 0.9423\n",
      "Epoch 22/25\n",
      "9600/9600 [==============================] - 21s 2ms/step - loss: 0.1486 - accuracy: 0.9561 - val_loss: 0.1958 - val_accuracy: 0.9471\n",
      "Epoch 23/25\n",
      "9600/9600 [==============================] - 21s 2ms/step - loss: 0.1474 - accuracy: 0.9559 - val_loss: 0.2329 - val_accuracy: 0.9377\n",
      "Epoch 24/25\n",
      "9600/9600 [==============================] - 21s 2ms/step - loss: 0.1452 - accuracy: 0.9568 - val_loss: 0.2035 - val_accuracy: 0.9431\n",
      "Epoch 25/25\n",
      "9600/9600 [==============================] - 24s 2ms/step - loss: 0.1450 - accuracy: 0.9575 - val_loss: 0.2203 - val_accuracy: 0.9411\n"
     ]
    }
   ],
   "source": [
    "model.compile(loss=loss_function_used, optimizer=tf.keras.optimizers.Adam(lr=0.001), metrics=['accuracy'])\n",
    "history = model.fit(X_train, y_train_enc, epochs=25, batch_size=5, verbose=1, validation_split=0.2)\n"
   ]
  },
  {
   "cell_type": "code",
   "execution_count": 30,
   "id": "9555e5bb-82d1-47e6-b096-4b87361e8b05",
   "metadata": {},
   "outputs": [
    {
     "name": "stdout",
     "output_type": "stream",
     "text": [
      "313/313 [==============================] - 2s 3ms/step - loss: 0.2275 - accuracy: 0.9377\n",
      "Test results - Loss: 0.2274724543094635 - Accuracy: 93.76999735832214%\n"
     ]
    }
   ],
   "source": [
    "test_results = model.evaluate(X_test, y_test_enc, verbose=1)\n",
    "print(f'Test results - Loss: {test_results[0]} - Accuracy: {test_results[1]*100}%')"
   ]
  },
  {
   "cell_type": "markdown",
   "id": "b776d67f-0762-46c8-bd0f-9833855e3127",
   "metadata": {},
   "source": [
    "## Example: Single-Digit House Number Recognition\n"
   ]
  },
  {
   "cell_type": "markdown",
   "id": "62ccd69f-4a39-4d0d-9614-bc42cb6774d8",
   "metadata": {},
   "source": [
    "Recognizing multi-digit text from photographs is a hard problem. In this example, we deal with a simpler sub-problem that involves using a convolutional neural network with the categorical cross-entropy loss function to build a classifier that identifies single-digit numbers from custom images.\n"
   ]
  },
  {
   "cell_type": "markdown",
   "id": "54c24cb9-24c7-4139-bd4b-a567426a30e3",
   "metadata": {},
   "source": [
    "First, let's load in a custom image using a URL. \\[Image from [comforthouse](https://www.comforthouse.com/floating-1-number-sign.html?utm_medium=Exinfluencer&utm_source=Exinfluencer&utm_content=000026UJ&utm_term=10006555&utm_id=NA-SkillsNetwork-Channel-SkillsNetworkCoursesIBMDeveloperSkillsNetworkML311Coursera35714171-2022-01-01).]\n"
   ]
  },
  {
   "cell_type": "code",
   "execution_count": 31,
   "id": "0c43a576-c384-4677-9e9e-cdd51af8e1af",
   "metadata": {},
   "outputs": [
    {
     "data": {
      "image/jpeg": "[encoded data removed]",
      "image/png": "[encoded data removed]",
      "text/plain": [
       "<PIL.Image.Image image mode=RGB size=225x225>"
      ]
     },
     "execution_count": 31,
     "metadata": {},
     "output_type": "execute_result"
    }
   ],
   "source": [
    "URL = 'https://cf-courses-data.s3.us.cloud-object-storage.appdomain.cloud/IBMDeveloperSkillsNetwork-ML311-Coursera/images/house_number_5.jpeg'\n",
    "image = Image.open(urlopen(URL)).convert('RGB')\n",
    "image"
   ]
  },
  {
   "cell_type": "markdown",
   "id": "509c02b7-f0e4-48ca-ab54-3522dba76cbe",
   "metadata": {},
   "source": [
    "Let us define a CNN architecture that is similar to one used for MNIST hand-written digit classification. We use a softmax as the activation function and categorical cross-entropy as the loss function as this is a multi-class classification problem.\n"
   ]
  },
  {
   "cell_type": "code",
   "execution_count": 32,
   "id": "e554617d-04ec-42df-a1c7-813f47666bbe",
   "metadata": {},
   "outputs": [
    {
     "name": "stderr",
     "output_type": "stream",
     "text": [
      "WARNING:absl:`lr` is deprecated in Keras optimizer, please use `learning_rate` or use the legacy optimizer, e.g.,tf.keras.optimizers.legacy.Adam.\n"
     ]
    },
    {
     "name": "stdout",
     "output_type": "stream",
     "text": [
      "Epoch 1/25\n",
      "9600/9600 [==============================] - 36s 4ms/step - loss: 0.4881 - accuracy: 0.8534 - val_loss: 0.2820 - val_accuracy: 0.9208\n",
      "Epoch 2/25\n",
      "9600/9600 [==============================] - 30s 3ms/step - loss: 0.2667 - accuracy: 0.9241 - val_loss: 0.2231 - val_accuracy: 0.9355\n",
      "Epoch 3/25\n",
      "9600/9600 [==============================] - 32s 3ms/step - loss: 0.2298 - accuracy: 0.9348 - val_loss: 0.2245 - val_accuracy: 0.9338\n",
      "Epoch 4/25\n",
      "9600/9600 [==============================] - 29s 3ms/step - loss: 0.2140 - accuracy: 0.9380 - val_loss: 0.2154 - val_accuracy: 0.9404\n",
      "Epoch 5/25\n",
      "9600/9600 [==============================] - 32s 3ms/step - loss: 0.2023 - accuracy: 0.9419 - val_loss: 0.2115 - val_accuracy: 0.9412\n",
      "Epoch 6/25\n",
      "9600/9600 [==============================] - 30s 3ms/step - loss: 0.1944 - accuracy: 0.9421 - val_loss: 0.2094 - val_accuracy: 0.9423\n",
      "Epoch 7/25\n",
      "9600/9600 [==============================] - 29s 3ms/step - loss: 0.1871 - accuracy: 0.9447 - val_loss: 0.2153 - val_accuracy: 0.9406\n",
      "Epoch 8/25\n",
      "9600/9600 [==============================] - 26s 3ms/step - loss: 0.1809 - accuracy: 0.9469 - val_loss: 0.2480 - val_accuracy: 0.9300\n",
      "Epoch 9/25\n",
      "9600/9600 [==============================] - 28s 3ms/step - loss: 0.1775 - accuracy: 0.9481 - val_loss: 0.2186 - val_accuracy: 0.9383\n",
      "Epoch 10/25\n",
      "9600/9600 [==============================] - 28s 3ms/step - loss: 0.1734 - accuracy: 0.9477 - val_loss: 0.2114 - val_accuracy: 0.9423\n",
      "Epoch 11/25\n",
      "9600/9600 [==============================] - 28s 3ms/step - loss: 0.1706 - accuracy: 0.9492 - val_loss: 0.2084 - val_accuracy: 0.9431\n",
      "Epoch 12/25\n",
      "9600/9600 [==============================] - 28s 3ms/step - loss: 0.1675 - accuracy: 0.9512 - val_loss: 0.2080 - val_accuracy: 0.9427\n",
      "Epoch 13/25\n",
      "9600/9600 [==============================] - 23s 2ms/step - loss: 0.1643 - accuracy: 0.9512 - val_loss: 0.2088 - val_accuracy: 0.9440\n",
      "Epoch 14/25\n",
      "9600/9600 [==============================] - 23s 2ms/step - loss: 0.1603 - accuracy: 0.9517 - val_loss: 0.2171 - val_accuracy: 0.9422\n",
      "Epoch 15/25\n",
      "9600/9600 [==============================] - 22s 2ms/step - loss: 0.1590 - accuracy: 0.9531 - val_loss: 0.2115 - val_accuracy: 0.9436\n",
      "Epoch 16/25\n",
      "9600/9600 [==============================] - 24s 2ms/step - loss: 0.1573 - accuracy: 0.9530 - val_loss: 0.2162 - val_accuracy: 0.9442\n",
      "Epoch 17/25\n",
      "9600/9600 [==============================] - 22s 2ms/step - loss: 0.1543 - accuracy: 0.9537 - val_loss: 0.2306 - val_accuracy: 0.9359\n",
      "Epoch 18/25\n",
      "9600/9600 [==============================] - 23s 2ms/step - loss: 0.1525 - accuracy: 0.9554 - val_loss: 0.2343 - val_accuracy: 0.9346\n",
      "Epoch 19/25\n",
      "9600/9600 [==============================] - 27s 3ms/step - loss: 0.1504 - accuracy: 0.9554 - val_loss: 0.2147 - val_accuracy: 0.9417\n",
      "Epoch 20/25\n",
      "9600/9600 [==============================] - 23s 2ms/step - loss: 0.1507 - accuracy: 0.9549 - val_loss: 0.2183 - val_accuracy: 0.9414\n",
      "Epoch 21/25\n",
      "9600/9600 [==============================] - 24s 3ms/step - loss: 0.1477 - accuracy: 0.9559 - val_loss: 0.2195 - val_accuracy: 0.9416\n",
      "Epoch 22/25\n",
      "9600/9600 [==============================] - 23s 2ms/step - loss: 0.1487 - accuracy: 0.9562 - val_loss: 0.2131 - val_accuracy: 0.9431\n",
      "Epoch 23/25\n",
      "9600/9600 [==============================] - 32s 3ms/step - loss: 0.1451 - accuracy: 0.9567 - val_loss: 0.2332 - val_accuracy: 0.9380\n",
      "Epoch 24/25\n",
      "9600/9600 [==============================] - 23s 2ms/step - loss: 0.1443 - accuracy: 0.9566 - val_loss: 0.2173 - val_accuracy: 0.9437\n",
      "Epoch 25/25\n",
      "9600/9600 [==============================] - 25s 3ms/step - loss: 0.1424 - accuracy: 0.9575 - val_loss: 0.2215 - val_accuracy: 0.9410\n"
     ]
    }
   ],
   "source": [
    "feature_vector_shape,input_shape = 784,784\n",
    "num_classes = 10\n",
    "loss_function_used = CategoricalCrossentropy(from_logits=True)\n",
    "model = Sequential()\n",
    "model.add(Dense(12, input_shape=(input_shape,), activation='relu', kernel_initializer='he_uniform'))\n",
    "model.add(Dense(8, activation='relu', kernel_initializer='he_uniform'))\n",
    "model.add(Dense(num_classes, activation='softmax'))\n",
    "\n",
    "model.compile(loss=loss_function_used, optimizer=tf.keras.optimizers.Adam(lr=0.001), metrics=['accuracy'])\n",
    "history = model.fit(X_train, y_train_enc, epochs=25, batch_size=5, verbose=1, validation_split=0.2)"
   ]
  },
  {
   "cell_type": "markdown",
   "id": "54460ecb-ba7c-4c41-b5bd-492497d7d5d7",
   "metadata": {},
   "source": [
    "We must now pre-process our raw input images to be grayscale and 28x28 in size.\n"
   ]
  },
  {
   "cell_type": "code",
   "execution_count": 39,
   "id": "b34911b3-1fa6-44d5-b017-66c2dd192a74",
   "metadata": {},
   "outputs": [
    {
     "data": {
      "image/jpeg": "[encoded data removed]",
      "image/png": "[encoded data removed]",
      "text/plain": [
       "<PIL.Image.Image image mode=L size=28x28>"
      ]
     },
     "execution_count": 39,
     "metadata": {},
     "output_type": "execute_result"
    }
   ],
   "source": [
    "img_rows, img_cols = 28, 28\n",
    "img = Image.fromarray(np.uint8(image)).convert('L')\n",
    "img_gray = img.resize((img_rows, img_cols), Image.Resampling.LANCZOS)\n",
    "img_gray"
   ]
  },
  {
   "cell_type": "markdown",
   "id": "4ae0dce7-24cf-4d71-8381-b0c1b87c8982",
   "metadata": {},
   "source": [
    "We will now convert the image to an array, and reshape it such that it has a dimension of (1, 784).\n"
   ]
  },
  {
   "cell_type": "code",
   "execution_count": 40,
   "id": "d590d2a9-970e-49bb-9fcf-79792d7c2045",
   "metadata": {},
   "outputs": [],
   "source": [
    "arr = np.array(img_gray)\n",
    "arr = arr.reshape((img_cols*img_rows))\n",
    "arr = np.expand_dims(arr, axis=0)"
   ]
  },
  {
   "cell_type": "markdown",
   "id": "d77175bc-1c27-48f1-8d58-5b014c143de6",
   "metadata": {},
   "source": [
    "Finally, we will feed the array as an input to our model, and use the argmax function to determine the most likely digit label.\n"
   ]
  },
  {
   "cell_type": "code",
   "execution_count": 42,
   "id": "4f5d66b1-b200-4312-9321-475399d0011d",
   "metadata": {},
   "outputs": [
    {
     "name": "stdout",
     "output_type": "stream",
     "text": [
      "1/1 [==============================] - 0s 49ms/step\n"
     ]
    },
    {
     "data": {
      "text/plain": [
       "8"
      ]
     },
     "execution_count": 42,
     "metadata": {},
     "output_type": "execute_result"
    }
   ],
   "source": [
    "prediction = model.predict(arr)\n",
    "np.argmax(prediction)"
   ]
  },
  {
   "cell_type": "markdown",
   "id": "6317e5da-9ca4-48c1-b2d4-01256f55b8fb",
   "metadata": {},
   "source": [
    "We got it right! You are free to experiment with different custom images by simply changing the URL.\n"
   ]
  },
  {
   "cell_type": "markdown",
   "id": "95698317-9f1f-4bb4-98b6-082a4200ad62",
   "metadata": {},
   "source": [
    "# Exercises\n"
   ]
  },
  {
   "cell_type": "markdown",
   "id": "5d3cd68b-2886-4c3d-ac81-da5169f4bfb2",
   "metadata": {},
   "source": [
    "For these exercises, we will be using the Fashion-MNIST dataset. It consists of 60,000 28x28 grayscale training images and 10,000 test images for 10 different categories, listed below:\n"
   ]
  },
  {
   "cell_type": "markdown",
   "id": "9cd389f0-994c-4f69-a87e-977491cbb8c5",
   "metadata": {},
   "source": [
    "0.  T-shirt\n",
    "1.  Trouser\n",
    "2.  Pullover\n",
    "3.  Dress\n",
    "4.  Coat\n",
    "5.  Sandal\n",
    "6.  Shirt\n",
    "7.  Sneaker\n",
    "8.  Bag\n",
    "9.  Ankle boot\n"
   ]
  },
  {
   "cell_type": "markdown",
   "id": "a3be35bd-1671-47d4-a19d-833573bfaad6",
   "metadata": {},
   "source": [
    "### Exercise 1 - Loading and plotting the images\n"
   ]
  },
  {
   "cell_type": "markdown",
   "id": "ccebc39a-6ab8-49c2-9dce-357c3186659e",
   "metadata": {},
   "source": [
    "Similar to the MNIST hand-written digits dataset, Fashion-MNIST is available for loading through Keras. Load the dataset using Keras in a similar manner. Plot some sample images from the training set.\n"
   ]
  },
  {
   "cell_type": "code",
   "execution_count": 44,
   "id": "19dc8c43-c76e-4d51-b2a4-c1f3b244db3c",
   "metadata": {},
   "outputs": [
    {
     "data": {
      "image/png": "[encoded data removed]",
      "text/plain": [
       "<Figure size 600x600 with 4 Axes>"
      ]
     },
     "metadata": {},
     "output_type": "display_data"
    }
   ],
   "source": [
    "# Enter your solution here\n",
    "(X_train, y_train), (X_test, y_test) = fashion_mnist.load_data() \n",
    "\n",
    "plt.rcParams['figure.figsize'] = (6,6) \n",
    "\n",
    "for i in range(4):\n",
    "    plt.subplot(2,2,i+1)\n",
    "    num = random.randint(0, len(X_train))\n",
    "    plt.imshow(X_train[num], cmap='gray', interpolation='none')\n",
    "    plt.title(\"class {}\".format(y_train[num]))\n",
    "    \n",
    "plt.tight_layout()"
   ]
  },
  {
   "cell_type": "markdown",
   "id": "b7e5c5e2-41ed-436f-b65b-fdad4f4f6b23",
   "metadata": {},
   "source": [
    "### Exercise 2 - Preparing the data\n"
   ]
  },
  {
   "cell_type": "markdown",
   "id": "0dae1df4-c266-4785-885d-f1a2c7fa0e99",
   "metadata": {},
   "source": [
    "Convert all grayscale images of size 28x28 to a 784-length vector. Change integers to 32-bit floating point numbers and normalize the input to be in the range \\[0, 1], rather than \\[0-255].\n"
   ]
  },
  {
   "cell_type": "code",
   "execution_count": 45,
   "id": "d7f36828-c344-4404-9dc9-aa16e4cc8cd6",
   "metadata": {},
   "outputs": [
    {
     "name": "stdout",
     "output_type": "stream",
     "text": [
      "(60000, 784)\n",
      "(10000, 784)\n"
     ]
    }
   ],
   "source": [
    "# Enter your solution here\n",
    "X_train = X_train.reshape(X_train.shape[0], X_train.shape[1]* X_train.shape[2])\n",
    "X_test = X_test.reshape(X_test.shape[0], X_test.shape[1] * X_test.shape[2])\n",
    "\n",
    "print(X_train.shape)\n",
    "print(X_test.shape)\n",
    "\n",
    "X_train = X_train.astype('float32')\n",
    "X_test = X_test.astype('float32')\n",
    "\n",
    "X_train /= 255\n",
    "X_test /= 255"
   ]
  },
  {
   "cell_type": "markdown",
   "id": "71a2420a-3a9d-4d8f-a37a-b76eba2dd88b",
   "metadata": {},
   "source": [
    "### Exercise 3 - One-hot encoding\n"
   ]
  },
  {
   "cell_type": "markdown",
   "id": "3cb27b00-e95c-4879-b9fd-f18e1bde44d0",
   "metadata": {},
   "source": [
    "Create one-hot encoded representations of the target variable using the `OneHotEncoder()` function from sklearn.\n"
   ]
  },
  {
   "cell_type": "code",
   "execution_count": 47,
   "id": "7e1965e5-4c46-4fa9-9904-cfc730199cf5",
   "metadata": {},
   "outputs": [
    {
     "name": "stdout",
     "output_type": "stream",
     "text": [
      "[array([0, 1, 2, 3, 4, 5, 6, 7, 8, 9], dtype=uint8)]\n"
     ]
    }
   ],
   "source": [
    "# Enter your solution here\n",
    "enc = OneHotEncoder(sparse_output=False)\n",
    "enc.fit(y_train.reshape(-1, 1))\n",
    "print(enc.categories_)\n",
    "\n",
    "y_train_enc = enc.transform(y_train.reshape(-1,1))\n",
    "y_test_enc = enc.transform(y_test.reshape(-1,1))"
   ]
  },
  {
   "cell_type": "markdown",
   "id": "95af2a47-31a6-4c72-81d5-25aeba0bd7bd",
   "metadata": {},
   "source": [
    "### Exercise 4 - Build model architecture\n"
   ]
  },
  {
   "cell_type": "markdown",
   "id": "2cfe03d1-b1ba-4e64-952a-2dd3ed114751",
   "metadata": {},
   "source": [
    "Build a CNN model with 2 hidden layers, that uses softmax as the activation function, and categorical cross-entropy as the loss function.\n"
   ]
  },
  {
   "cell_type": "code",
   "execution_count": 49,
   "id": "a5286487-b0b2-4081-a850-7fd42416d692",
   "metadata": {},
   "outputs": [
    {
     "name": "stderr",
     "output_type": "stream",
     "text": [
      "WARNING:absl:`lr` is deprecated in Keras optimizer, please use `learning_rate` or use the legacy optimizer, e.g.,tf.keras.optimizers.legacy.Adam.\n"
     ]
    },
    {
     "name": "stdout",
     "output_type": "stream",
     "text": [
      "Epoch 1/25\n"
     ]
    },
    {
     "name": "stderr",
     "output_type": "stream",
     "text": [
      "c:\\Users\\cmadaria\\Miniconda3\\envs\\equitrain\\lib\\site-packages\\keras\\src\\backend.py:5562: UserWarning: \"`categorical_crossentropy` received `from_logits=True`, but the `output` argument was produced by a Softmax activation and thus does not represent logits. Was this intended?\n",
      "  output, from_logits = _get_logits(\n",
      "Exception ignored in: <function WeakKeyDictionary.__init__.<locals>.remove at 0x00000257BEC7BC10>\n",
      "Traceback (most recent call last):\n",
      "  File \"c:\\Users\\cmadaria\\Miniconda3\\envs\\equitrain\\lib\\weakref.py\", line 346, in remove\n",
      "    self = selfref()\n",
      "KeyboardInterrupt: \n"
     ]
    },
    {
     "name": "stdout",
     "output_type": "stream",
     "text": [
      "9600/9600 [==============================] - 51s 5ms/step - loss: 0.6327 - accuracy: 0.7722 - val_loss: 0.4791 - val_accuracy: 0.8318\n",
      "Epoch 2/25\n",
      "9600/9600 [==============================] - 36s 4ms/step - loss: 0.4641 - accuracy: 0.8372 - val_loss: 0.4581 - val_accuracy: 0.8377\n",
      "Epoch 3/25\n",
      "9600/9600 [==============================] - 33s 3ms/step - loss: 0.4273 - accuracy: 0.8483 - val_loss: 0.4348 - val_accuracy: 0.8487\n",
      "Epoch 4/25\n",
      "9600/9600 [==============================] - 39s 4ms/step - loss: 0.4097 - accuracy: 0.8547 - val_loss: 0.4171 - val_accuracy: 0.8551\n",
      "Epoch 5/25\n",
      "9600/9600 [==============================] - 27s 3ms/step - loss: 0.3964 - accuracy: 0.8586 - val_loss: 0.4240 - val_accuracy: 0.8530\n",
      "Epoch 6/25\n",
      "9600/9600 [==============================] - 25s 3ms/step - loss: 0.3863 - accuracy: 0.8614 - val_loss: 0.4051 - val_accuracy: 0.8595\n",
      "Epoch 7/25\n",
      "9600/9600 [==============================] - 23s 2ms/step - loss: 0.3822 - accuracy: 0.8639 - val_loss: 0.4370 - val_accuracy: 0.8486\n",
      "Epoch 8/25\n",
      "9600/9600 [==============================] - 23s 2ms/step - loss: 0.3743 - accuracy: 0.8655 - val_loss: 0.4014 - val_accuracy: 0.8588\n",
      "Epoch 9/25\n",
      "9600/9600 [==============================] - 23s 2ms/step - loss: 0.3686 - accuracy: 0.8681 - val_loss: 0.4280 - val_accuracy: 0.8503\n",
      "Epoch 10/25\n",
      "9600/9600 [==============================] - 25s 3ms/step - loss: 0.3649 - accuracy: 0.8676 - val_loss: 0.4024 - val_accuracy: 0.8594\n",
      "Epoch 11/25\n",
      "9600/9600 [==============================] - 23s 2ms/step - loss: 0.3602 - accuracy: 0.8705 - val_loss: 0.4243 - val_accuracy: 0.8502\n",
      "Epoch 12/25\n",
      "9600/9600 [==============================] - 23s 2ms/step - loss: 0.3570 - accuracy: 0.8711 - val_loss: 0.4094 - val_accuracy: 0.8591\n",
      "Epoch 13/25\n",
      "9600/9600 [==============================] - 24s 2ms/step - loss: 0.3532 - accuracy: 0.8734 - val_loss: 0.4316 - val_accuracy: 0.8540\n",
      "Epoch 14/25\n",
      "9600/9600 [==============================] - 24s 3ms/step - loss: 0.3498 - accuracy: 0.8734 - val_loss: 0.4016 - val_accuracy: 0.8597\n",
      "Epoch 15/25\n",
      "9600/9600 [==============================] - 25s 3ms/step - loss: 0.3469 - accuracy: 0.8734 - val_loss: 0.4149 - val_accuracy: 0.8579\n",
      "Epoch 16/25\n",
      "9600/9600 [==============================] - 46s 5ms/step - loss: 0.3443 - accuracy: 0.8747 - val_loss: 0.4269 - val_accuracy: 0.8531\n",
      "Epoch 17/25\n",
      "9600/9600 [==============================] - 36s 4ms/step - loss: 0.3425 - accuracy: 0.8750 - val_loss: 0.4083 - val_accuracy: 0.8609\n",
      "Epoch 18/25\n",
      "9600/9600 [==============================] - 33s 3ms/step - loss: 0.3401 - accuracy: 0.8755 - val_loss: 0.4045 - val_accuracy: 0.8604\n",
      "Epoch 19/25\n",
      "9600/9600 [==============================] - 31s 3ms/step - loss: 0.3376 - accuracy: 0.8759 - val_loss: 0.4060 - val_accuracy: 0.8600\n",
      "Epoch 20/25\n",
      "9600/9600 [==============================] - 30s 3ms/step - loss: 0.3352 - accuracy: 0.8777 - val_loss: 0.4222 - val_accuracy: 0.8543\n",
      "Epoch 21/25\n",
      "9600/9600 [==============================] - 38s 4ms/step - loss: 0.3332 - accuracy: 0.8791 - val_loss: 0.4064 - val_accuracy: 0.8595\n",
      "Epoch 22/25\n",
      "9600/9600 [==============================] - 22s 2ms/step - loss: 0.3311 - accuracy: 0.8781 - val_loss: 0.4142 - val_accuracy: 0.8643\n",
      "Epoch 23/25\n",
      "9600/9600 [==============================] - 72s 8ms/step - loss: 0.3295 - accuracy: 0.8810 - val_loss: 0.4190 - val_accuracy: 0.8597\n",
      "Epoch 24/25\n",
      "9600/9600 [==============================] - 45s 5ms/step - loss: 0.3299 - accuracy: 0.8790 - val_loss: 0.4351 - val_accuracy: 0.8589\n",
      "Epoch 25/25\n",
      "9600/9600 [==============================] - 38s 4ms/step - loss: 0.3268 - accuracy: 0.8808 - val_loss: 0.4375 - val_accuracy: 0.8518\n",
      "313/313 [==============================] - 1s 2ms/step - loss: 0.4559 - accuracy: 0.8471\n",
      "Test results - Loss: 0.455920934677124 - Accuracy: 84.7100019454956%\n"
     ]
    }
   ],
   "source": [
    "# Enter your solution here\n",
    "feature_vector_shape = X_train.shape[1]\n",
    "input_shape = (feature_vector_shape,)\n",
    "num_classes = 10\n",
    "loss_function_used = CategoricalCrossentropy(from_logits=True)\n",
    "model = Sequential()\n",
    "model.add(Dense(12, input_shape=input_shape, activation='relu', kernel_initializer='he_uniform'))\n",
    "model.add(Dense(8, activation='relu', kernel_initializer='he_uniform'))\n",
    "model.add(Dense(num_classes, activation='softmax'))\n",
    "\n",
    "model.compile(loss=loss_function_used, optimizer=tf.keras.optimizers.Adam(learning_rate=0.001), metrics=['accuracy'])\n",
    "history = model.fit(X_train, y_train_enc, epochs=25, batch_size=5, verbose=1, validation_split=0.2)\n",
    "\n",
    "test_results = model.evaluate(X_test, y_test_enc, verbose=1)\n",
    "print(f'Test results - Loss: {test_results[0]} - Accuracy: {test_results[1]*100}%')"
   ]
  },
  {
   "cell_type": "markdown",
   "id": "6373cc45-fed7-490c-970c-f3e2b61500d1",
   "metadata": {},
   "source": [
    "### (Optional) Exercise 5 - Sparse Categorical Cross Entropy\n"
   ]
  },
  {
   "cell_type": "markdown",
   "id": "1734cfa7-4a72-46bb-99cb-09a895cacc40",
   "metadata": {},
   "source": [
    "We saw that when using categorical cross-entropy, the ground truth labels need to be one-hot encoded. Keras provides another loss function called sparse cross-entropy where we can leave the labels as integers.\n",
    "\n",
    "Build a CNN model with two hidden layers, that uses softmax as the activation function, and sparse categorical cross-entropy as the loss function. Make sure to use the non-one-hot encoded ground-truth labels.  \n"
   ]
  },
  {
   "cell_type": "code",
   "execution_count": 50,
   "id": "52636a02-7ec4-4561-9ed8-d32f03d0884e",
   "metadata": {},
   "outputs": [
    {
     "name": "stdout",
     "output_type": "stream",
     "text": [
      "Epoch 1/25\n"
     ]
    },
    {
     "name": "stderr",
     "output_type": "stream",
     "text": [
      "c:\\Users\\cmadaria\\Miniconda3\\envs\\equitrain\\lib\\site-packages\\keras\\src\\backend.py:5714: UserWarning: \"`sparse_categorical_crossentropy` received `from_logits=True`, but the `output` argument was produced by a Softmax activation and thus does not represent logits. Was this intended?\n",
      "  output, from_logits = _get_logits(\n"
     ]
    },
    {
     "name": "stdout",
     "output_type": "stream",
     "text": [
      "9600/9600 [==============================] - 32s 3ms/step - loss: 0.6108 - accuracy: 0.7846 - val_loss: 0.4899 - val_accuracy: 0.8317\n",
      "Epoch 2/25\n",
      "9600/9600 [==============================] - 27s 3ms/step - loss: 0.4573 - accuracy: 0.8371 - val_loss: 0.4416 - val_accuracy: 0.8461\n",
      "Epoch 3/25\n",
      "9600/9600 [==============================] - 27s 3ms/step - loss: 0.4307 - accuracy: 0.8456 - val_loss: 0.4309 - val_accuracy: 0.8478\n",
      "Epoch 4/25\n",
      "9600/9600 [==============================] - 33s 3ms/step - loss: 0.4129 - accuracy: 0.8514 - val_loss: 0.4195 - val_accuracy: 0.8503\n",
      "Epoch 5/25\n",
      "9600/9600 [==============================] - 26s 3ms/step - loss: 0.4021 - accuracy: 0.8558 - val_loss: 0.4541 - val_accuracy: 0.8366\n",
      "Epoch 6/25\n",
      "9600/9600 [==============================] - 21s 2ms/step - loss: 0.3937 - accuracy: 0.8572 - val_loss: 0.4344 - val_accuracy: 0.8475\n",
      "Epoch 7/25\n",
      "9600/9600 [==============================] - 22s 2ms/step - loss: 0.3863 - accuracy: 0.8600 - val_loss: 0.4195 - val_accuracy: 0.8543\n",
      "Epoch 8/25\n",
      "9600/9600 [==============================] - 25s 3ms/step - loss: 0.3813 - accuracy: 0.8611 - val_loss: 0.4022 - val_accuracy: 0.8587\n",
      "Epoch 9/25\n",
      "9600/9600 [==============================] - 22s 2ms/step - loss: 0.3762 - accuracy: 0.8649 - val_loss: 0.4055 - val_accuracy: 0.8582\n",
      "Epoch 10/25\n",
      "9600/9600 [==============================] - 27s 3ms/step - loss: 0.3714 - accuracy: 0.8662 - val_loss: 0.4044 - val_accuracy: 0.8618\n",
      "Epoch 11/25\n",
      "9600/9600 [==============================] - 21s 2ms/step - loss: 0.3658 - accuracy: 0.8667 - val_loss: 0.4343 - val_accuracy: 0.8508\n",
      "Epoch 12/25\n",
      "9600/9600 [==============================] - 22s 2ms/step - loss: 0.3643 - accuracy: 0.8685 - val_loss: 0.4074 - val_accuracy: 0.8577\n",
      "Epoch 13/25\n",
      "9600/9600 [==============================] - 24s 2ms/step - loss: 0.3604 - accuracy: 0.8704 - val_loss: 0.4159 - val_accuracy: 0.8598\n",
      "Epoch 14/25\n",
      "9600/9600 [==============================] - 21s 2ms/step - loss: 0.3566 - accuracy: 0.8713 - val_loss: 0.4334 - val_accuracy: 0.8464\n",
      "Epoch 15/25\n",
      "9600/9600 [==============================] - 21s 2ms/step - loss: 0.3550 - accuracy: 0.8718 - val_loss: 0.4260 - val_accuracy: 0.8568\n",
      "Epoch 16/25\n",
      "9600/9600 [==============================] - 23s 2ms/step - loss: 0.3494 - accuracy: 0.8722 - val_loss: 0.4205 - val_accuracy: 0.8584\n",
      "Epoch 17/25\n",
      "9600/9600 [==============================] - 23s 2ms/step - loss: 0.3486 - accuracy: 0.8729 - val_loss: 0.3988 - val_accuracy: 0.8634\n",
      "Epoch 18/25\n",
      "9600/9600 [==============================] - 25s 3ms/step - loss: 0.3439 - accuracy: 0.8759 - val_loss: 0.4516 - val_accuracy: 0.8427\n",
      "Epoch 19/25\n",
      "9600/9600 [==============================] - 32s 3ms/step - loss: 0.3429 - accuracy: 0.8767 - val_loss: 0.4060 - val_accuracy: 0.8627\n",
      "Epoch 20/25\n",
      "9600/9600 [==============================] - 23s 2ms/step - loss: 0.3400 - accuracy: 0.8769 - val_loss: 0.4098 - val_accuracy: 0.8593\n",
      "Epoch 21/25\n",
      "9600/9600 [==============================] - 22s 2ms/step - loss: 0.3365 - accuracy: 0.8765 - val_loss: 0.4029 - val_accuracy: 0.8605\n",
      "Epoch 22/25\n",
      "9600/9600 [==============================] - 22s 2ms/step - loss: 0.3354 - accuracy: 0.8790 - val_loss: 0.4207 - val_accuracy: 0.8555\n",
      "Epoch 23/25\n",
      "9600/9600 [==============================] - 26s 3ms/step - loss: 0.3343 - accuracy: 0.8774 - val_loss: 0.4100 - val_accuracy: 0.8598\n",
      "Epoch 24/25\n",
      "9600/9600 [==============================] - 25s 3ms/step - loss: 0.3316 - accuracy: 0.8803 - val_loss: 0.4122 - val_accuracy: 0.8597\n",
      "Epoch 25/25\n",
      "9600/9600 [==============================] - 23s 2ms/step - loss: 0.3300 - accuracy: 0.8793 - val_loss: 0.4177 - val_accuracy: 0.8572\n",
      "313/313 [==============================] - 1s 2ms/step - loss: 0.4558 - accuracy: 0.8491\n",
      "Test results - Loss: 0.4557599723339081 - Accuracy: 84.90999937057495%\n"
     ]
    }
   ],
   "source": [
    "# Enter your solution here\n",
    "# Enter your solution here\n",
    "feature_vector_shape = X_train.shape[1]\n",
    "input_shape = (feature_vector_shape,)\n",
    "num_classes = 10\n",
    "loss_function_used = SparseCategoricalCrossentropy(from_logits=True)\n",
    "model = Sequential()\n",
    "model.add(Dense(12, input_shape=input_shape, activation='relu', kernel_initializer='he_uniform'))\n",
    "model.add(Dense(8, activation='relu', kernel_initializer='he_uniform'))\n",
    "model.add(Dense(num_classes, activation='softmax'))\n",
    "\n",
    "model.compile(loss=loss_function_used, optimizer=tf.keras.optimizers.Adam(learning_rate=0.001), metrics=['accuracy'])\n",
    "history = model.fit(X_train, y_train, epochs=25, batch_size=5, verbose=1, validation_split=0.2)\n",
    "\n",
    "test_results = model.evaluate(X_test, y_test, verbose=1)\n",
    "print(f'Test results - Loss: {test_results[0]} - Accuracy: {test_results[1]*100}%')"
   ]
  },
  {
   "cell_type": "markdown",
   "id": "b98ad9b5-98db-4ea5-860b-465c22a8e290",
   "metadata": {},
   "source": [
    "<details>\n",
    "    <summary>Click here for Solution</summary>\n",
    "\n",
    "```python\n",
    "feature_vector_shape = X_train.shape[1]\n",
    "input_shape = (feature_vector_shape,)\n",
    "num_classes = 10\n",
    "loss_function_used = SparseCategoricalCrossentropy()\n",
    "\n",
    "model = Sequential()\n",
    "model.add(Dense(12, input_shape=input_shape, activation='relu', kernel_initializer='he_uniform'))\n",
    "model.add(Dense(8, activation='relu', kernel_initializer='he_uniform'))\n",
    "model.add(Dense(num_classes, activation='softmax'))\n",
    "\n",
    "\n",
    "model.compile(loss=loss_function_used, optimizer=tf.keras.optimizers.Adam(lr=0.001), metrics=['accuracy'])\n",
    "history = model.fit(X_train, y_train, epochs=25, batch_size=5, verbose=1, validation_split=0.2)\n",
    "\n",
    "test_results = model.evaluate(X_test, y_test, verbose=1)\n",
    "print(f'Test results - Loss: {test_results[0]} - Accuracy: {test_results[1]*100}%')\n",
    "\n",
    "```\n",
    "\n",
    "</details>\n"
   ]
  },
  {
   "cell_type": "markdown",
   "id": "57014375-4704-496e-9c57-28447c692a02",
   "metadata": {},
   "source": [
    "Copyright © 2022 IBM Corporation. All rights reserved.\n"
   ]
  }
 ],
 "metadata": {
  "kernelspec": {
   "display_name": "equitrain",
   "language": "python",
   "name": "python3"
  },
  "language_info": {
   "codemirror_mode": {
    "name": "ipython",
    "version": 3
   },
   "file_extension": ".py",
   "mimetype": "text/x-python",
   "name": "python",
   "nbconvert_exporter": "python",
   "pygments_lexer": "ipython3",
   "version": "3.8.19"
  },
  "prev_pub_hash": "7c554d395fcc33239e85a68a8ac8696e4a54ba7070f2eb51e600e9d7ce57417d"
 },
 "nbformat": 4,
 "nbformat_minor": 4
}
