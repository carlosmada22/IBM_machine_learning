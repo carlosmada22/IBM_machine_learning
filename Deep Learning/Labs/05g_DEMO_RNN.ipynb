{
 "cells": [
  {
   "cell_type": "markdown",
   "id": "c3b0a197-c72f-44b3-9e33-c21f5103f110",
   "metadata": {},
   "source": [
    "<p style=\"text-align:center\">\n",
    "    <a href=\"https://skills.network/?utm_medium=Exinfluencer&utm_source=Exinfluencer&utm_content=000026UJ&utm_term=10006555&utm_id=NA-SkillsNetwork-Channel-SkillsNetworkCoursesIBMDeveloperSkillsNetworkML311Coursera747-2022-01-01\" target=\"_blank\">\n",
    "    <img src=\"https://cf-courses-data.s3.us.cloud-object-storage.appdomain.cloud/assets/logos/SN_web_lightmode.png\" width=\"200\" alt=\"Skills Network Logo\"  />\n",
    "    </a>\n",
    "</p>\n"
   ]
  },
  {
   "cell_type": "markdown",
   "id": "d6347669-2ddb-4b07-83b3-72505705c811",
   "metadata": {},
   "source": [
    "# Machine Learning Foundation\n",
    "\n",
    "## Course 5, Part g: RNN DEMO\n"
   ]
  },
  {
   "cell_type": "markdown",
   "id": "68b892a6-2fbb-429c-b0d0-68ed2356802a",
   "metadata": {},
   "source": [
    "## Using RNNs to classify sentiment on IMDB data\n",
    "For this exercise, we will train a \"vanilla\" RNN to predict the sentiment on IMDB reviews.  Our data consists of 25000 training sequences and 25000 test sequences.  The outcome is binary (positive/negative) and both outcomes are equally represented in both the training and the test set.\n",
    "\n",
    "Keras provides a convenient interface to load the data and immediately encode the words into integers (based on the most common words).  This will save us a lot of the drudgery that is usually involved when working with raw text.\n",
    "\n",
    "We will walk through the preparation of the data and the building of an RNN model.  Then it will be your turn to build your own models (and prepare the data how you see fit).\n"
   ]
  },
  {
   "cell_type": "code",
   "execution_count": 7,
   "id": "758b074a-b143-491e-9c71-4e64426cfe0d",
   "metadata": {},
   "outputs": [],
   "source": [
    "from tensorflow import keras\n",
    "from keras.utils import pad_sequences\n",
    "from keras.models import Sequential\n",
    "from keras.layers import Dense, Embedding\n",
    "from keras.layers import SimpleRNN\n",
    "from keras.datasets import imdb\n",
    "from keras import initializers"
   ]
  },
  {
   "cell_type": "code",
   "execution_count": 8,
   "id": "0e5284c0-6cdb-446f-91db-1eb5cc2da80a",
   "metadata": {},
   "outputs": [],
   "source": [
    "max_features = 20000  # This is used in loading the data, picks the most common (max_features) words\n",
    "maxlen = 30  # maximum length of a sequence - truncate after this\n",
    "batch_size = 32"
   ]
  },
  {
   "cell_type": "code",
   "execution_count": 9,
   "id": "f82d1a60-456b-46f6-ac2a-10c8ad6c90e6",
   "metadata": {},
   "outputs": [
    {
     "name": "stdout",
     "output_type": "stream",
     "text": [
      "25000 train sequences\n",
      "25000 test sequences\n"
     ]
    }
   ],
   "source": [
    "## Load in the data.  The function automatically tokenizes the text into distinct integers\n",
    "(x_train, y_train), (x_test, y_test) = imdb.load_data(num_words=max_features)\n",
    "print(len(x_train), 'train sequences')\n",
    "print(len(x_test), 'test sequences')"
   ]
  },
  {
   "cell_type": "code",
   "execution_count": 10,
   "id": "4554b255-5562-4449-9972-0a82e7999bf4",
   "metadata": {},
   "outputs": [
    {
     "name": "stdout",
     "output_type": "stream",
     "text": [
      "x_train shape: (25000, 30)\n",
      "x_test shape: (25000, 30)\n"
     ]
    }
   ],
   "source": [
    "# This pads (or truncates) the sequences so that they are of the maximum length\n",
    "x_train = pad_sequences(x_train, maxlen=maxlen)\n",
    "x_test = pad_sequences(x_test, maxlen=maxlen)\n",
    "print('x_train shape:', x_train.shape)\n",
    "print('x_test shape:', x_test.shape)"
   ]
  },
  {
   "cell_type": "code",
   "execution_count": 11,
   "id": "1648370c-8705-41e6-89c6-6eac3fc7ec86",
   "metadata": {},
   "outputs": [
    {
     "data": {
      "text/plain": [
       "array([  219,   141,    35,   221,   956,    54,    13,    16,    11,\n",
       "        2714,    61,   322,   423,    12,    38,    76,    59,  1803,\n",
       "          72,     8, 10508,    23,     5,   967,    12,    38,    85,\n",
       "          62,   358,    99])"
      ]
     },
     "execution_count": 11,
     "metadata": {},
     "output_type": "execute_result"
    }
   ],
   "source": [
    "x_train[123,:]  #Here's what an example sequence looks like"
   ]
  },
  {
   "cell_type": "markdown",
   "id": "b8031e5d-6d2e-4ae9-b950-262fa6190b78",
   "metadata": {},
   "source": [
    "## Keras layers for (Vanilla) RNNs\n",
    "\n",
    "In this exercise, we will not use pre-trained word vectors.  Rather we will learn an embedding as part of the Neural Network.  This is represented by the Embedding Layer below.\n",
    "\n",
    "### Embedding Layer\n",
    "`keras.layers.embeddings.Embedding(input_dim, output_dim, embeddings_initializer='uniform', embeddings_regularizer=None, activity_regularizer=None, embeddings_constraint=None, mask_zero=False, input_length=None)`\n",
    "\n",
    "- This layer maps each integer into a distinct (dense) word vector of length `output_dim`.\n",
    "- Can think of this as learning a word vector embedding \"on the fly\" rather than using an existing mapping (like GloVe)\n",
    "- The `input_dim` should be the size of the vocabulary.\n",
    "- The `input_length` specifies the length of the sequences that the network expects.\n",
    "\n",
    "### SimpleRNN Layer\n",
    "`keras.layers.recurrent.SimpleRNN(units, activation='tanh', use_bias=True, kernel_initializer='glorot_uniform', recurrent_initializer='orthogonal', bias_initializer='zeros', kernel_regularizer=None, recurrent_regularizer=None, bias_regularizer=None, activity_regularizer=None, kernel_constraint=None, recurrent_constraint=None, bias_constraint=None, dropout=0.0, recurrent_dropout=0.0)`\n",
    "\n",
    "- This is the basic RNN, where the output is also fed back as the \"hidden state\" to the next iteration.\n",
    "- The parameter `units` gives the dimensionality of the output (and therefore the hidden state).  Note that typically there will be another layer after the RNN mapping the (RNN) output to the network output.  So we should think of this value as the desired dimensionality of the hidden state and not necessarily the desired output of the network.\n",
    "- Recall that there are two sets of weights, one for the \"recurrent\" phase and the other for the \"kernel\" phase.  These can be configured separately in terms of their initialization, regularization, etc.\n",
    "\n",
    "\n",
    "\n",
    "\n"
   ]
  },
  {
   "cell_type": "code",
   "execution_count": 12,
   "id": "a68f9bc0-0682-48fd-b396-718d288c72e0",
   "metadata": {},
   "outputs": [],
   "source": [
    "## Let's build a RNN\n",
    "\n",
    "rnn_hidden_dim = 5\n",
    "word_embedding_dim = 50\n",
    "model_rnn = Sequential()\n",
    "model_rnn.add(Embedding(max_features, word_embedding_dim))  #This layer takes each integer in the sequence and embeds it in a 50-dimensional vector\n",
    "model_rnn.add(SimpleRNN(rnn_hidden_dim,\n",
    "                    kernel_initializer=initializers.RandomNormal(stddev=0.001),\n",
    "                    recurrent_initializer=initializers.Identity(gain=1.0),\n",
    "                    activation='relu',\n",
    "                    input_shape=x_train.shape[1:]))\n",
    "\n",
    "model_rnn.add(Dense(1, activation='sigmoid'))"
   ]
  },
  {
   "cell_type": "code",
   "execution_count": 13,
   "id": "ed7356c2-28f5-47cf-9fc8-1137f14ff266",
   "metadata": {},
   "outputs": [
    {
     "name": "stdout",
     "output_type": "stream",
     "text": [
      "Model: \"sequential\"\n",
      "_________________________________________________________________\n",
      " Layer (type)                Output Shape              Param #   \n",
      "=================================================================\n",
      " embedding (Embedding)       (None, None, 50)          1000000   \n",
      "                                                                 \n",
      " simple_rnn (SimpleRNN)      (None, 5)                 280       \n",
      "                                                                 \n",
      " dense (Dense)               (None, 1)                 6         \n",
      "                                                                 \n",
      "=================================================================\n",
      "Total params: 1000286 (3.82 MB)\n",
      "Trainable params: 1000286 (3.82 MB)\n",
      "Non-trainable params: 0 (0.00 Byte)\n",
      "_________________________________________________________________\n"
     ]
    }
   ],
   "source": [
    "## Note that most of the parameters come from the embedding layer\n",
    "model_rnn.summary()"
   ]
  },
  {
   "cell_type": "code",
   "execution_count": 14,
   "id": "eec9a25a-6675-47f5-b5ed-12070e145f9e",
   "metadata": {},
   "outputs": [],
   "source": [
    "rmsprop = keras.optimizers.RMSprop(learning_rate = .0001)\n",
    "\n",
    "model_rnn.compile(loss='binary_crossentropy',\n",
    "              optimizer=rmsprop,\n",
    "              metrics=['accuracy'])"
   ]
  },
  {
   "cell_type": "code",
   "execution_count": 15,
   "id": "578fa17c-bee6-4475-ab3f-6ef8269b9f46",
   "metadata": {},
   "outputs": [
    {
     "name": "stdout",
     "output_type": "stream",
     "text": [
      "Epoch 1/10\n",
      "782/782 [==============================] - 29s 33ms/step - loss: 0.6786 - accuracy: 0.5808 - val_loss: 0.6442 - val_accuracy: 0.6574\n",
      "Epoch 2/10\n",
      "782/782 [==============================] - 20s 26ms/step - loss: 0.5977 - accuracy: 0.6942 - val_loss: 0.5702 - val_accuracy: 0.7032\n",
      "Epoch 3/10\n",
      "782/782 [==============================] - 17s 21ms/step - loss: 0.5269 - accuracy: 0.7423 - val_loss: 0.5311 - val_accuracy: 0.7297\n",
      "Epoch 4/10\n",
      "782/782 [==============================] - 12s 15ms/step - loss: 0.4808 - accuracy: 0.7720 - val_loss: 0.5058 - val_accuracy: 0.7490\n",
      "Epoch 5/10\n",
      "782/782 [==============================] - 10s 13ms/step - loss: 0.4477 - accuracy: 0.7920 - val_loss: 0.4871 - val_accuracy: 0.7616\n",
      "Epoch 6/10\n",
      "782/782 [==============================] - 10s 13ms/step - loss: 0.4241 - accuracy: 0.8054 - val_loss: 0.4763 - val_accuracy: 0.7688\n",
      "Epoch 7/10\n",
      "782/782 [==============================] - 11s 14ms/step - loss: 0.4058 - accuracy: 0.8152 - val_loss: 0.4675 - val_accuracy: 0.7741\n",
      "Epoch 8/10\n",
      "782/782 [==============================] - 11s 14ms/step - loss: 0.3911 - accuracy: 0.8244 - val_loss: 0.4619 - val_accuracy: 0.7786\n",
      "Epoch 9/10\n",
      "782/782 [==============================] - 11s 14ms/step - loss: 0.3799 - accuracy: 0.8299 - val_loss: 0.4565 - val_accuracy: 0.7817\n",
      "Epoch 10/10\n",
      "782/782 [==============================] - 10s 13ms/step - loss: 0.3704 - accuracy: 0.8360 - val_loss: 0.4553 - val_accuracy: 0.7839\n"
     ]
    },
    {
     "data": {
      "text/plain": [
       "<keras.src.callbacks.History at 0x20cf44837f0>"
      ]
     },
     "execution_count": 15,
     "metadata": {},
     "output_type": "execute_result"
    }
   ],
   "source": [
    "model_rnn.fit(x_train, y_train,\n",
    "          batch_size=batch_size,\n",
    "          epochs=10,\n",
    "          validation_data=(x_test, y_test))"
   ]
  },
  {
   "cell_type": "code",
   "execution_count": 16,
   "id": "49e16e27-19f8-4013-8fa4-449c90b20ae8",
   "metadata": {},
   "outputs": [
    {
     "name": "stdout",
     "output_type": "stream",
     "text": [
      "782/782 [==============================] - 3s 4ms/step - loss: 0.4553 - accuracy: 0.7839\n",
      "Test score: 0.4553268253803253\n",
      "Test accuracy: 0.7839199900627136\n"
     ]
    }
   ],
   "source": [
    "score, acc = model_rnn.evaluate(x_test, y_test,\n",
    "                            batch_size=batch_size)\n",
    "print('Test score:', score)\n",
    "print('Test accuracy:', acc)"
   ]
  },
  {
   "cell_type": "markdown",
   "id": "0d5f79e6-6933-4f5d-8d8a-9476534e632a",
   "metadata": {},
   "source": [
    "## Exercise\n",
    "\n",
    "In this exercise, we will illustrate:\n",
    "- Preparing the data to use sequences of length 80 rather than length 30.  Does it improve the performance?\n",
    "- Trying different values of the \"max_features\".  Does this  improve the performance?\n",
    "- Trying smaller and larger sizes of the RNN hidden dimension.  How does it affect the model performance?  How does it affect the run time?\n"
   ]
  },
  {
   "cell_type": "code",
   "execution_count": 17,
   "id": "b6803ba5-21e6-431d-8ed4-d39a4e16e1ac",
   "metadata": {},
   "outputs": [],
   "source": [
    "max_features = 20000  # This is used in loading the data, picks the most common (max_features) words\n",
    "maxlen = 80  # maximum length of a sequence - truncate after this\n",
    "\n",
    "(x_train, y_train), (x_test, y_test) = imdb.load_data(num_words=max_features)\n",
    "\n",
    "x_train = pad_sequences(x_train, maxlen=maxlen)\n",
    "x_test = pad_sequences(x_test, maxlen=maxlen)"
   ]
  },
  {
   "cell_type": "code",
   "execution_count": 18,
   "id": "d3b2ceaa-2fa5-4086-8bc3-d364d6272dc4",
   "metadata": {},
   "outputs": [],
   "source": [
    "rnn_hidden_dim = 5\n",
    "word_embedding_dim = 50\n",
    "model_rnn = Sequential()\n",
    "model_rnn.add(Embedding(max_features, word_embedding_dim))  #This layer takes each integer in the sequence\n",
    "model_rnn.add(SimpleRNN(rnn_hidden_dim,\n",
    "                    kernel_initializer=initializers.RandomNormal(stddev=0.001),\n",
    "                    recurrent_initializer=initializers.Identity(gain=1.0),\n",
    "                    activation='relu',\n",
    "                    input_shape=x_train.shape[1:]))\n",
    "\n",
    "model_rnn.add(Dense(1, activation='sigmoid'))"
   ]
  },
  {
   "cell_type": "code",
   "execution_count": 19,
   "id": "671c1da6-217b-48ae-aaf8-93b221c8591f",
   "metadata": {},
   "outputs": [],
   "source": [
    "rmsprop = keras.optimizers.RMSprop(learning_rate = .0001)\n",
    "\n",
    "model_rnn.compile(loss='binary_crossentropy',\n",
    "              optimizer=rmsprop,\n",
    "              metrics=['accuracy'])"
   ]
  },
  {
   "cell_type": "code",
   "execution_count": 20,
   "id": "e8f776cc-e2c3-488f-a1a7-d897019d2455",
   "metadata": {},
   "outputs": [
    {
     "name": "stdout",
     "output_type": "stream",
     "text": [
      "Epoch 1/10\n",
      "782/782 [==============================] - 29s 34ms/step - loss: 0.6244 - accuracy: 0.6414 - val_loss: 0.5635 - val_accuracy: 0.6964\n",
      "Epoch 2/10\n",
      "782/782 [==============================] - 26s 33ms/step - loss: 0.4686 - accuracy: 0.7818 - val_loss: 0.4529 - val_accuracy: 0.7898\n",
      "Epoch 3/10\n",
      "782/782 [==============================] - 26s 34ms/step - loss: 0.3936 - accuracy: 0.8255 - val_loss: 0.4142 - val_accuracy: 0.8122\n",
      "Epoch 4/10\n",
      "782/782 [==============================] - 28s 36ms/step - loss: 0.3509 - accuracy: 0.8488 - val_loss: 0.3989 - val_accuracy: 0.8188\n",
      "Epoch 5/10\n",
      "782/782 [==============================] - 27s 35ms/step - loss: 0.3225 - accuracy: 0.8626 - val_loss: 0.3895 - val_accuracy: 0.8238\n",
      "Epoch 6/10\n",
      "782/782 [==============================] - 26s 33ms/step - loss: 0.3011 - accuracy: 0.8746 - val_loss: 0.3720 - val_accuracy: 0.8329\n",
      "Epoch 7/10\n",
      "782/782 [==============================] - 26s 33ms/step - loss: 0.2840 - accuracy: 0.8834 - val_loss: 0.3735 - val_accuracy: 0.8336\n",
      "Epoch 8/10\n",
      "782/782 [==============================] - 26s 34ms/step - loss: 0.2689 - accuracy: 0.8891 - val_loss: 0.3657 - val_accuracy: 0.8381\n",
      "Epoch 9/10\n",
      "782/782 [==============================] - 29s 37ms/step - loss: 0.2569 - accuracy: 0.8959 - val_loss: 0.3675 - val_accuracy: 0.8390\n",
      "Epoch 10/10\n",
      "782/782 [==============================] - 27s 35ms/step - loss: 0.2466 - accuracy: 0.9000 - val_loss: 0.3692 - val_accuracy: 0.8385\n"
     ]
    },
    {
     "data": {
      "text/plain": [
       "<keras.src.callbacks.History at 0x20cf440e370>"
      ]
     },
     "execution_count": 20,
     "metadata": {},
     "output_type": "execute_result"
    }
   ],
   "source": [
    "model_rnn.fit(x_train, y_train,\n",
    "          batch_size=batch_size,\n",
    "          epochs=10,\n",
    "          validation_data=(x_test, y_test))"
   ]
  },
  {
   "cell_type": "code",
   "execution_count": 21,
   "id": "b51c86db-446f-46ca-b06b-32788d0245d9",
   "metadata": {},
   "outputs": [],
   "source": [
    "max_features = 5000  # This is used in loading the data, picks the most common (max_features) words\n",
    "maxlen = 80  # maximum length of a sequence - truncate after this\n",
    "\n",
    "(x_train, y_train), (x_test, y_test) = imdb.load_data(num_words=max_features)\n",
    "\n",
    "x_train = pad_sequences(x_train, maxlen=maxlen)\n",
    "x_test = pad_sequences(x_test, maxlen=maxlen)"
   ]
  },
  {
   "cell_type": "code",
   "execution_count": 22,
   "id": "574e6607-ba53-4e93-81b9-f9ff4414ed54",
   "metadata": {},
   "outputs": [],
   "source": [
    "rnn_hidden_dim = 5\n",
    "word_embedding_dim = 20\n",
    "model_rnn = Sequential()\n",
    "model_rnn.add(Embedding(max_features, word_embedding_dim))  #This layer takes each integer in the sequence\n",
    "model_rnn.add(SimpleRNN(rnn_hidden_dim,\n",
    "                    kernel_initializer=initializers.RandomNormal(stddev=0.001),\n",
    "                    recurrent_initializer=initializers.Identity(gain=1.0),\n",
    "                    activation='relu',\n",
    "                    input_shape=x_train.shape[1:]))\n",
    "\n",
    "model_rnn.add(Dense(1, activation='sigmoid'))"
   ]
  },
  {
   "cell_type": "code",
   "execution_count": 23,
   "id": "6611d7c8-9d61-45d6-9a32-ea9e7450ede3",
   "metadata": {},
   "outputs": [],
   "source": [
    "rmsprop = keras.optimizers.RMSprop(learning_rate = .0001)\n",
    "\n",
    "model_rnn.compile(loss='binary_crossentropy',\n",
    "              optimizer=rmsprop,\n",
    "              metrics=['accuracy'])"
   ]
  },
  {
   "cell_type": "code",
   "execution_count": 24,
   "id": "b1d1e60c-cd85-4495-80ee-f89aec62b5d7",
   "metadata": {},
   "outputs": [
    {
     "name": "stdout",
     "output_type": "stream",
     "text": [
      "Epoch 1/10\n",
      "782/782 [==============================] - 23s 27ms/step - loss: 0.6904 - accuracy: 0.5089 - val_loss: 0.6774 - val_accuracy: 0.5288\n",
      "Epoch 2/10\n",
      "782/782 [==============================] - 21s 27ms/step - loss: 0.6385 - accuracy: 0.6556 - val_loss: 0.6085 - val_accuracy: 0.7076\n",
      "Epoch 3/10\n",
      "782/782 [==============================] - 21s 27ms/step - loss: 0.5842 - accuracy: 0.7521 - val_loss: 0.5420 - val_accuracy: 0.7553\n",
      "Epoch 4/10\n",
      "782/782 [==============================] - 22s 28ms/step - loss: 0.4691 - accuracy: 0.7823 - val_loss: 0.4690 - val_accuracy: 0.7733\n",
      "Epoch 5/10\n",
      "782/782 [==============================] - 22s 29ms/step - loss: 0.4217 - accuracy: 0.8095 - val_loss: 0.4327 - val_accuracy: 0.8016\n",
      "Epoch 6/10\n",
      "782/782 [==============================] - 19s 24ms/step - loss: 0.3926 - accuracy: 0.8257 - val_loss: 0.4443 - val_accuracy: 0.7844\n",
      "Epoch 7/10\n",
      "782/782 [==============================] - 21s 27ms/step - loss: 0.3713 - accuracy: 0.8367 - val_loss: 0.4288 - val_accuracy: 0.7949\n",
      "Epoch 8/10\n",
      "782/782 [==============================] - 16s 21ms/step - loss: 0.3553 - accuracy: 0.8456 - val_loss: 0.3972 - val_accuracy: 0.8207\n",
      "Epoch 9/10\n",
      "782/782 [==============================] - 21s 26ms/step - loss: 0.3433 - accuracy: 0.8522 - val_loss: 0.3904 - val_accuracy: 0.8252\n",
      "Epoch 10/10\n",
      "782/782 [==============================] - 33s 42ms/step - loss: 0.3344 - accuracy: 0.8561 - val_loss: 0.3850 - val_accuracy: 0.8276\n"
     ]
    },
    {
     "data": {
      "text/plain": [
       "<keras.src.callbacks.History at 0x20c8d5a0d60>"
      ]
     },
     "execution_count": 24,
     "metadata": {},
     "output_type": "execute_result"
    }
   ],
   "source": [
    "model_rnn.fit(x_train, y_train,\n",
    "          batch_size=batch_size,\n",
    "          epochs=10,\n",
    "          validation_data=(x_test, y_test))"
   ]
  },
  {
   "cell_type": "code",
   "execution_count": 25,
   "id": "1c7a9183-3659-4602-9faa-ea43af7bdf0a",
   "metadata": {},
   "outputs": [
    {
     "name": "stdout",
     "output_type": "stream",
     "text": [
      "Epoch 1/10\n",
      "782/782 [==============================] - 19s 24ms/step - loss: 0.3265 - accuracy: 0.8611 - val_loss: 0.3874 - val_accuracy: 0.8282\n",
      "Epoch 2/10\n",
      "782/782 [==============================] - 17s 22ms/step - loss: 0.3208 - accuracy: 0.8648 - val_loss: 0.3791 - val_accuracy: 0.8323\n",
      "Epoch 3/10\n",
      "782/782 [==============================] - 17s 22ms/step - loss: 0.3146 - accuracy: 0.8671 - val_loss: 0.3808 - val_accuracy: 0.8295\n",
      "Epoch 4/10\n",
      "782/782 [==============================] - 18s 23ms/step - loss: 0.3092 - accuracy: 0.8695 - val_loss: 0.3855 - val_accuracy: 0.8254\n",
      "Epoch 5/10\n",
      "782/782 [==============================] - 20s 26ms/step - loss: 0.3042 - accuracy: 0.8732 - val_loss: 0.3790 - val_accuracy: 0.8310\n",
      "Epoch 6/10\n",
      "782/782 [==============================] - 16s 20ms/step - loss: 0.2995 - accuracy: 0.8741 - val_loss: 0.3707 - val_accuracy: 0.8369\n",
      "Epoch 7/10\n",
      "782/782 [==============================] - 16s 20ms/step - loss: 0.2949 - accuracy: 0.8764 - val_loss: 0.3910 - val_accuracy: 0.8247\n",
      "Epoch 8/10\n",
      "782/782 [==============================] - 16s 20ms/step - loss: 0.2913 - accuracy: 0.8787 - val_loss: 0.3664 - val_accuracy: 0.8384\n",
      "Epoch 9/10\n",
      "782/782 [==============================] - 16s 20ms/step - loss: 0.2876 - accuracy: 0.8792 - val_loss: 0.3873 - val_accuracy: 0.8290\n",
      "Epoch 10/10\n",
      "782/782 [==============================] - 16s 20ms/step - loss: 0.2848 - accuracy: 0.8820 - val_loss: 0.3735 - val_accuracy: 0.8352\n"
     ]
    },
    {
     "data": {
      "text/plain": [
       "<keras.src.callbacks.History at 0x20c8451f0a0>"
      ]
     },
     "execution_count": 25,
     "metadata": {},
     "output_type": "execute_result"
    }
   ],
   "source": [
    "# Out of curiosity, run for 10 more epochs\n",
    "model_rnn.fit(x_train, y_train,\n",
    "          batch_size=batch_size,\n",
    "          epochs=10,\n",
    "          validation_data=(x_test, y_test))"
   ]
  },
  {
   "cell_type": "markdown",
   "id": "51da6421-d508-47ad-9390-aec0f564528b",
   "metadata": {},
   "source": [
    "---\n",
    "### Machine Learning Foundation (C) 2020 IBM Corporation\n"
   ]
  }
 ],
 "metadata": {
  "kernelspec": {
   "display_name": "equitrain",
   "language": "python",
   "name": "python3"
  },
  "language_info": {
   "codemirror_mode": {
    "name": "ipython",
    "version": 3
   },
   "file_extension": ".py",
   "mimetype": "text/x-python",
   "name": "python",
   "nbconvert_exporter": "python",
   "pygments_lexer": "ipython3",
   "version": "3.8.19"
  }
 },
 "nbformat": 4,
 "nbformat_minor": 4
}
